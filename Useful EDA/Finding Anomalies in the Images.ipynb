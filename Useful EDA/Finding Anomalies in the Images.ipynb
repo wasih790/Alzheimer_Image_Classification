{
 "cells": [
  {
   "cell_type": "code",
   "execution_count": 5,
   "id": "3b1f0120",
   "metadata": {},
   "outputs": [],
   "source": [
    "import matplotlib.pyplot as plt\n",
    "from tensorflow.keras.models import Model\n",
    "from tensorflow.keras.layers import GlobalAveragePooling2D, Dense\n",
    "from tensorflow.keras.applications import vgg16\n",
    "from tensorflow.keras.optimizers import Adam, SGD\n",
    "import scipy  #Used to upsample our image\n",
    "\n",
    "import os\n",
    "import cv2\n",
    "from PIL import Image\n",
    "import numpy as np\n"
   ]
  },
  {
   "cell_type": "code",
   "execution_count": 6,
   "id": "3fe7673b",
   "metadata": {},
   "outputs": [],
   "source": [
    "path = '/Users/wasih/Documents/Flatiron/Project_5_Alzheimer_Image_Classification/Models From Scratch /Data'"
   ]
  },
  {
   "cell_type": "code",
   "execution_count": 11,
   "id": "1fcc1948",
   "metadata": {},
   "outputs": [],
   "source": [
    "hun = 'Hun_Img'"
   ]
  },
  {
   "cell_type": "code",
   "execution_count": 12,
   "id": "07f23fce",
   "metadata": {},
   "outputs": [
    {
     "name": "stdout",
     "output_type": "stream",
     "text": [
      "Finding Anomalies in the Images.ipynb Umap.ipynb\r\n",
      "\u001b[34mHun_Img\u001b[m\u001b[m                               Umap2.ipynb\r\n"
     ]
    }
   ],
   "source": [
    "!ls"
   ]
  },
  {
   "cell_type": "code",
   "execution_count": 13,
   "id": "f5b21485",
   "metadata": {},
   "outputs": [
    {
     "data": {
      "text/plain": [
       "['VeryMildDemented', 'ModerateDemented', 'MildDemented', 'NonDemented']"
      ]
     },
     "execution_count": 13,
     "metadata": {},
     "output_type": "execute_result"
    }
   ],
   "source": [
    "os.listdir(hun)"
   ]
  },
  {
   "cell_type": "code",
   "execution_count": null,
   "id": "e6e72438",
   "metadata": {},
   "outputs": [],
   "source": []
  }
 ],
 "metadata": {
  "kernelspec": {
   "display_name": "Python 3 (ipykernel)",
   "language": "python",
   "name": "python3"
  },
  "language_info": {
   "codemirror_mode": {
    "name": "ipython",
    "version": 3
   },
   "file_extension": ".py",
   "mimetype": "text/x-python",
   "name": "python",
   "nbconvert_exporter": "python",
   "pygments_lexer": "ipython3",
   "version": "3.8.13"
  }
 },
 "nbformat": 4,
 "nbformat_minor": 5
}
