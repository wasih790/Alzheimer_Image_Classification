{
 "cells": [
  {
   "cell_type": "markdown",
   "id": "5deec4e3",
   "metadata": {},
   "source": [
    "# Imports"
   ]
  },
  {
   "cell_type": "code",
   "execution_count": 1,
   "id": "0a2824c6",
   "metadata": {},
   "outputs": [],
   "source": [
    "import pandas as pd\n",
    "import numpy as np\n",
    "import matplotlib.pyplot as plt\n",
    "\n",
    "\n",
    "import os\n",
    "import cv2\n",
    "import shutil\n",
    "\n",
    "import tensorflow as tf\n",
    "from tensorflow.keras.models import Sequential\n",
    "from tensorflow.keras.utils import to_categorical\n",
    "from tensorflow.keras.layers import Conv2D, Flatten, Dense, MaxPooling2D\n",
    "from tensorflow.keras.callbacks import EarlyStopping\n",
    "from tensorflow.keras.optimizers import Adam\n",
    "from tensorflow.keras.preprocessing.image import ImageDataGenerator\n",
    "\n",
    "from sklearn.model_selection import train_test_split\n",
    "\n",
    "\n",
    "from sklearn.metrics import confusion_matrix, ConfusionMatrixDisplay\n",
    "from sklearn.metrics import classification_report\n",
    "from sklearn.metrics import plot_roc_curve, auc,roc_curve,roc_auc_score\n"
   ]
  },
  {
   "cell_type": "markdown",
   "id": "748497c7",
   "metadata": {},
   "source": [
    "# Checking out an Image"
   ]
  },
  {
   "cell_type": "code",
   "execution_count": 2,
   "id": "4a9e6c3d",
   "metadata": {},
   "outputs": [],
   "source": [
    "# # loading and testing out data \n",
    "# img = cv2.imread(os.path.join('Data','VeryMildDemented','2b70a7c4-b97a-4887-8e5f-85c079e7b275.jpg'))\n",
    "# print(img.shape)\n",
    "# plt.imshow(img);\n",
    "# # plt.imshow(cv2.cvtColor(img, cv2.COLOR_BGR2RGB));\n",
    "# # if you have color problem use this "
   ]
  },
  {
   "cell_type": "markdown",
   "id": "8b6a0feb",
   "metadata": {},
   "source": [
    "# Spliting out Data into Train and Test Directories with a 30% Split"
   ]
  },
  {
   "cell_type": "code",
   "execution_count": 3,
   "id": "9eb3aa9f",
   "metadata": {},
   "outputs": [
    {
     "name": "stdout",
     "output_type": "stream",
     "text": [
      "8960\n",
      "6464\n",
      "8960\n",
      "9600\n"
     ]
    }
   ],
   "source": [
    "# Total in each Folder\n",
    "print(len(os.listdir('Data/VeryMildDemented')) )\n",
    "print(len(os.listdir('Data/ModerateDemented')))\n",
    "print(len(os.listdir('Data/MildDemented')))\n",
    "print(len(os.listdir('Data/NonDemented')))"
   ]
  },
  {
   "cell_type": "code",
   "execution_count": 4,
   "id": "6e5c9543",
   "metadata": {
    "scrolled": false
   },
   "outputs": [
    {
     "name": "stdout",
     "output_type": "stream",
     "text": [
      "2688.0\n",
      "1939.1999999999998\n",
      "2688.0\n",
      "2880.0\n"
     ]
    }
   ],
   "source": [
    "# Figure out how much is 30% of each folder\n",
    "print(len(os.listdir('Data/VeryMildDemented')) * .3)\n",
    "print(len(os.listdir('Data/ModerateDemented')) * .3)\n",
    "print(len(os.listdir('Data/MildDemented')) * .3 )\n",
    "print(len(os.listdir('Data/NonDemented')) * .3)"
   ]
  },
  {
   "cell_type": "code",
   "execution_count": 5,
   "id": "724d8a0a",
   "metadata": {},
   "outputs": [],
   "source": [
    "# Creating a dictonary for each folder name and value\n",
    "val_dic = {'VeryMildDemented':2688, 'ModerateDemented':1939, 'MildDemented':2688, 'NonDemented':2880}"
   ]
  },
  {
   "cell_type": "code",
   "execution_count": 6,
   "id": "e7da353d",
   "metadata": {},
   "outputs": [],
   "source": [
    "# # making a copy of the each images from Data directory to Test directory\n",
    "# for val, key in val_dic.items():\n",
    "#     origin = f'Data/{val}/'\n",
    "#     test = f'Train:Test/Test/{val}/'\n",
    "    \n",
    "#     files = os.listdir(origin)[:key]\n",
    "    \n",
    "#     # Fetching all the files to directory\n",
    "#     for file_name in files:\n",
    "#         shutil.copy(origin+file_name, test+file_name)\n"
   ]
  },
  {
   "cell_type": "code",
   "execution_count": 7,
   "id": "cfbb2858",
   "metadata": {},
   "outputs": [],
   "source": [
    "# # making a copy of the each images from Data directory to Train directory\n",
    "# for val, key in val_dic.items():\n",
    "#     origin = f'Data/{val}/'\n",
    "#     train = f'Train:Test/Train/{val}/'\n",
    "    \n",
    "#     files = os.listdir(origin)[key:]\n",
    "    \n",
    "#     # Fetching all the files to directory\n",
    "#     for file_name in files:\n",
    "#         shutil.copy(origin+file_name, train+file_name)"
   ]
  },
  {
   "cell_type": "code",
   "execution_count": 8,
   "id": "03077fd7",
   "metadata": {},
   "outputs": [
    {
     "name": "stdout",
     "output_type": "stream",
     "text": [
      "2688\n",
      "1939\n",
      "2688\n",
      "2880\n"
     ]
    }
   ],
   "source": [
    "# Checking the Length of the Test Directory \n",
    "print(len(os.listdir('Train:Test/Test/VeryMildDemented/')))\n",
    "print(len(os.listdir('Train:Test/Test/ModerateDemented/')))\n",
    "print(len(os.listdir('Train:Test/Test/MildDemented/')))\n",
    "print(len(os.listdir('Train:Test/Test/NonDemented/')))"
   ]
  },
  {
   "cell_type": "code",
   "execution_count": 9,
   "id": "a626cd22",
   "metadata": {},
   "outputs": [
    {
     "name": "stdout",
     "output_type": "stream",
     "text": [
      "6272\n",
      "4525\n",
      "6272\n",
      "6720\n"
     ]
    }
   ],
   "source": [
    "# Checking the Length of the Train Directory \n",
    "print(len(os.listdir('Train:Test/Train/VeryMildDemented/')))\n",
    "print(len(os.listdir('Train:Test/Train/ModerateDemented/')))\n",
    "print(len(os.listdir('Train:Test/Train/MildDemented/')))\n",
    "print(len(os.listdir('Train:Test/Train/NonDemented/')))"
   ]
  },
  {
   "cell_type": "code",
   "execution_count": 10,
   "id": "7df71474",
   "metadata": {},
   "outputs": [
    {
     "name": "stdout",
     "output_type": "stream",
     "text": [
      "Success for VeryMildDemented\n",
      "Success for ModerateDemented\n",
      "Success for MildDemented\n",
      "Success for NonDemented\n"
     ]
    }
   ],
   "source": [
    "# making sure both directory add up to the Full data Directory \n",
    "\n",
    "for x in os.listdir('Data'):\n",
    "    if len(os.listdir(f'Data/{x}')) ==  ( len(os.listdir(f'Train:Test/Test/{x}')) + len(os.listdir(f'Train:Test/Train/{x}')) ):\n",
    "        print(f'Success for {x}')\n",
    "        "
   ]
  },
  {
   "cell_type": "markdown",
   "id": "87941057",
   "metadata": {},
   "source": [
    "# Loading with ImageDataGenerator"
   ]
  },
  {
   "cell_type": "code",
   "execution_count": 11,
   "id": "717368d4",
   "metadata": {},
   "outputs": [
    {
     "name": "stdout",
     "output_type": "stream",
     "text": [
      "['.DS_Store', 'VeryMildDemented', 'ModerateDemented', 'MildDemented', 'NonDemented']\n",
      "['.DS_Store', 'VeryMildDemented', 'ModerateDemented', 'MildDemented', 'NonDemented']\n"
     ]
    }
   ],
   "source": [
    "# Path to the directory containing the training images\n",
    "train_dir = 'Train:Test/Train/'\n",
    "test_dir = 'Train:Test/Test/'\n",
    "print(os.listdir(train_dir))\n",
    "print(os.listdir(test_dir))"
   ]
  },
  {
   "cell_type": "code",
   "execution_count": 12,
   "id": "09a13224",
   "metadata": {},
   "outputs": [],
   "source": [
    "image_size = (50, 50)\n",
    "# Image dimensions"
   ]
  },
  {
   "cell_type": "code",
   "execution_count": 13,
   "id": "bec521c5",
   "metadata": {},
   "outputs": [],
   "source": [
    "# Creating an instance of the ImageDataGenerator with data augmentation and validation split\n",
    "datagen = ImageDataGenerator(\n",
    "    rescale=1.0 / 255,         # Rescale pixel values between 0 and 1\n",
    "#     horizontal_flip=True,     # Randomly flip images horizontally\n",
    "#     rotation_range=20,         # Randomly rotate images by 20 degrees\n",
    "#     vertical_flip=True,        # Randomly flip images vertically\n",
    "#     Flips and rotations dont really help\n",
    "    validation_split=0.2       # Split 20% of data for validation\n",
    ")\n",
    "\n",
    "\n",
    "# Creating an instance of the ImageDataGenerator for the Testing\n",
    "test_datagen = ImageDataGenerator(\n",
    "    rescale=1.0 / 255,         # Rescale pixel values between 0 and 1\n",
    ")\n"
   ]
  },
  {
   "cell_type": "code",
   "execution_count": 36,
   "id": "4ff46d78",
   "metadata": {},
   "outputs": [
    {
     "name": "stdout",
     "output_type": "stream",
     "text": [
      "Found 19032 images belonging to 4 classes.\n"
     ]
    }
   ],
   "source": [
    "# Generating training data from the images in the specified directory\n",
    "train_generator = datagen.flow_from_directory(\n",
    "    train_dir,\n",
    "    target_size=image_size,\n",
    "    batch_size=32,\n",
    "    class_mode='categorical',\n",
    "    subset='training'# Use subset 'training' for training data\n",
    ")"
   ]
  },
  {
   "cell_type": "code",
   "execution_count": 15,
   "id": "643b9421",
   "metadata": {
    "scrolled": true
   },
   "outputs": [
    {
     "name": "stdout",
     "output_type": "stream",
     "text": [
      "Found 4757 images belonging to 4 classes.\n"
     ]
    }
   ],
   "source": [
    "# Generating validation data from the images in the specified directory\n",
    "validation_generator = datagen.flow_from_directory(\n",
    "    train_dir,\n",
    "    target_size=image_size,\n",
    "    batch_size=32,\n",
    "    class_mode='categorical',\n",
    "    subset='validation'        # Use subset 'validation' for validation data\n",
    ")"
   ]
  },
  {
   "cell_type": "code",
   "execution_count": 37,
   "id": "f97ee637",
   "metadata": {
    "scrolled": true
   },
   "outputs": [
    {
     "name": "stdout",
     "output_type": "stream",
     "text": [
      "Found 10195 images belonging to 4 classes.\n"
     ]
    }
   ],
   "source": [
    "# Generating Testing data from the images in the specified directory\n",
    "testing_generator = test_datagen.flow_from_directory(\n",
    "    test_dir,\n",
    "    target_size=image_size,\n",
    "    batch_size=32,\n",
    "    class_mode='categorical',\n",
    "     shuffle = False\n",
    ")"
   ]
  },
  {
   "cell_type": "markdown",
   "id": "71a9f626",
   "metadata": {},
   "source": [
    "# Build Model"
   ]
  },
  {
   "cell_type": "code",
   "execution_count": 17,
   "id": "c5c979bd",
   "metadata": {
    "scrolled": true
   },
   "outputs": [
    {
     "name": "stdout",
     "output_type": "stream",
     "text": [
      "Metal device set to: Apple M2 Pro\n"
     ]
    },
    {
     "name": "stderr",
     "output_type": "stream",
     "text": [
      "2023-07-19 12:01:17.503127: I tensorflow/core/common_runtime/pluggable_device/pluggable_device_factory.cc:305] Could not identify NUMA node of platform GPU ID 0, defaulting to 0. Your kernel may not have been built with NUMA support.\n",
      "2023-07-19 12:01:17.503243: I tensorflow/core/common_runtime/pluggable_device/pluggable_device_factory.cc:271] Created TensorFlow device (/job:localhost/replica:0/task:0/device:GPU:0 with 0 MB memory) -> physical PluggableDevice (device: 0, name: METAL, pci bus id: <undefined>)\n"
     ]
    }
   ],
   "source": [
    "# model = Sequential()\n",
    "# model.add(Conv2D(16, (3,3), 1, activation = 'relu', input_shape =(50,50,3))) # 16 filter with (3,3) pixel in size, \n",
    "# #model looks at 1 pixel at a time\n",
    "# model.add(MaxPooling2D()) # max pool take the max value of the region it looks at and return that max value, \n",
    "# #default (2,2)\n",
    "\n",
    "\n",
    "# model.add(Conv2D(32, (3,3), 1, activation = 'relu')) # 32 filter\n",
    "# model.add(MaxPooling2D())\n",
    "\n",
    "\n",
    "# model.add(Conv2D(16, (3,3), 1, activation = 'relu')) # 16 filter\n",
    "# model.add(MaxPooling2D())\n",
    "\n",
    "\n",
    "# model.add(Flatten())\n",
    "\n",
    "# model.add(Dense(256, activation='relu'))\n",
    "# model.add(Dense(4, activation='softmax'))\n",
    "\n",
    "\n",
    "\n",
    "# Trying a similar architecture as VG16\n",
    "model = Sequential()\n",
    "model.add(Conv2D(64, (3,3), 1, activation = 'relu', input_shape =(50,50,3)))\n",
    "model.add(Conv2D(64, (3,3), 1, activation = 'relu'))\n",
    "model.add(MaxPooling2D(2,2))\n",
    "\n",
    "model.add(Conv2D(128, (3,3), 1, activation = 'relu'))\n",
    "model.add(Conv2D(128, (3,3), 1, activation = 'relu'))\n",
    "model.add(MaxPooling2D(2,2))\n",
    "\n",
    "model.add(Conv2D(256, (3,3), 1, activation = 'relu'))\n",
    "model.add(Conv2D(256, (3,3), 1, activation = 'relu'))\n",
    "model.add(Conv2D(128, (3,3), 1, activation = 'relu'))\n",
    "model.add(MaxPooling2D(2,2))\n",
    "\n",
    "\n",
    "model.add(Flatten())\n",
    "\n",
    "model.add(Dense(256, activation='relu'))\n",
    "model.add(Dense(128, activation='relu'))\n",
    "model.add(Dense(64, activation='relu'))\n",
    "model.add(Dense(4, activation='softmax'))"
   ]
  },
  {
   "cell_type": "code",
   "execution_count": 18,
   "id": "52fcfe38",
   "metadata": {},
   "outputs": [],
   "source": [
    "opt = Adam(learning_rate = 1e-3, beta_1 = 0.9, beta_2 = 0.999 ) # typical parameters"
   ]
  },
  {
   "cell_type": "code",
   "execution_count": 19,
   "id": "86bf238c",
   "metadata": {},
   "outputs": [],
   "source": [
    "model.compile(optimizer=opt, loss='categorical_crossentropy', metrics=['accuracy','AUC'] )"
   ]
  },
  {
   "cell_type": "code",
   "execution_count": 20,
   "id": "203108b3",
   "metadata": {
    "scrolled": false
   },
   "outputs": [
    {
     "name": "stdout",
     "output_type": "stream",
     "text": [
      "Model: \"sequential\"\n",
      "_________________________________________________________________\n",
      " Layer (type)                Output Shape              Param #   \n",
      "=================================================================\n",
      " conv2d (Conv2D)             (None, 48, 48, 64)        1792      \n",
      "                                                                 \n",
      " conv2d_1 (Conv2D)           (None, 46, 46, 64)        36928     \n",
      "                                                                 \n",
      " max_pooling2d (MaxPooling2D  (None, 23, 23, 64)       0         \n",
      " )                                                               \n",
      "                                                                 \n",
      " conv2d_2 (Conv2D)           (None, 21, 21, 128)       73856     \n",
      "                                                                 \n",
      " conv2d_3 (Conv2D)           (None, 19, 19, 128)       147584    \n",
      "                                                                 \n",
      " max_pooling2d_1 (MaxPooling  (None, 9, 9, 128)        0         \n",
      " 2D)                                                             \n",
      "                                                                 \n",
      " conv2d_4 (Conv2D)           (None, 7, 7, 256)         295168    \n",
      "                                                                 \n",
      " conv2d_5 (Conv2D)           (None, 5, 5, 256)         590080    \n",
      "                                                                 \n",
      " conv2d_6 (Conv2D)           (None, 3, 3, 128)         295040    \n",
      "                                                                 \n",
      " max_pooling2d_2 (MaxPooling  (None, 1, 1, 128)        0         \n",
      " 2D)                                                             \n",
      "                                                                 \n",
      " flatten (Flatten)           (None, 128)               0         \n",
      "                                                                 \n",
      " dense (Dense)               (None, 256)               33024     \n",
      "                                                                 \n",
      " dense_1 (Dense)             (None, 128)               32896     \n",
      "                                                                 \n",
      " dense_2 (Dense)             (None, 64)                8256      \n",
      "                                                                 \n",
      " dense_3 (Dense)             (None, 4)                 260       \n",
      "                                                                 \n",
      "=================================================================\n",
      "Total params: 1,514,884\n",
      "Trainable params: 1,514,884\n",
      "Non-trainable params: 0\n",
      "_________________________________________________________________\n"
     ]
    }
   ],
   "source": [
    "model.summary()"
   ]
  },
  {
   "cell_type": "markdown",
   "id": "bd6b9fbe",
   "metadata": {},
   "source": [
    "# Visualize the Model"
   ]
  },
  {
   "cell_type": "code",
   "execution_count": 21,
   "id": "20236acc",
   "metadata": {},
   "outputs": [],
   "source": [
    "# visualizer(model, file_format='png', view=True, file_name='Conv2D_model')"
   ]
  },
  {
   "cell_type": "markdown",
   "id": "acff0479",
   "metadata": {},
   "source": [
    "# Fit Model"
   ]
  },
  {
   "cell_type": "code",
   "execution_count": 22,
   "id": "a9ab1f43",
   "metadata": {},
   "outputs": [],
   "source": [
    "#  will use validation loss: stopping to prevent overfitting.\n",
    "trainCallback = EarlyStopping(monitor='loss', min_delta = 1e-6, patience = 5)"
   ]
  },
  {
   "cell_type": "code",
   "execution_count": 23,
   "id": "a46ff564",
   "metadata": {
    "scrolled": true
   },
   "outputs": [
    {
     "name": "stdout",
     "output_type": "stream",
     "text": [
      "Epoch 1/35\n"
     ]
    },
    {
     "name": "stderr",
     "output_type": "stream",
     "text": [
      "2023-07-19 12:01:17.742692: W tensorflow/core/platform/profile_utils/cpu_utils.cc:128] Failed to get CPU frequency: 0 Hz\n",
      "2023-07-19 12:01:18.002489: I tensorflow/core/grappler/optimizers/custom_graph_optimizer_registry.cc:113] Plugin optimizer for device_type GPU is enabled.\n"
     ]
    },
    {
     "name": "stdout",
     "output_type": "stream",
     "text": [
      "594/595 [============================>.] - ETA: 0s - loss: 1.3780 - accuracy: 0.2766 - auc: 0.5430"
     ]
    },
    {
     "name": "stderr",
     "output_type": "stream",
     "text": [
      "2023-07-19 12:01:31.196383: I tensorflow/core/grappler/optimizers/custom_graph_optimizer_registry.cc:113] Plugin optimizer for device_type GPU is enabled.\n"
     ]
    },
    {
     "name": "stdout",
     "output_type": "stream",
     "text": [
      "595/595 [==============================] - 16s 26ms/step - loss: 1.3780 - accuracy: 0.2766 - auc: 0.5430 - val_loss: 1.3765 - val_accuracy: 0.2762 - val_auc: 0.5410\n",
      "Epoch 2/35\n",
      "595/595 [==============================] - 15s 25ms/step - loss: 1.3622 - accuracy: 0.2945 - auc: 0.5657 - val_loss: 1.1470 - val_accuracy: 0.4518 - val_auc: 0.7371\n",
      "Epoch 3/35\n",
      "595/595 [==============================] - 15s 25ms/step - loss: 0.8933 - accuracy: 0.5705 - auc: 0.8444 - val_loss: 0.7534 - val_accuracy: 0.6420 - val_auc: 0.8911\n",
      "Epoch 4/35\n",
      "595/595 [==============================] - 15s 25ms/step - loss: 0.7360 - accuracy: 0.6460 - auc: 0.8944 - val_loss: 0.6998 - val_accuracy: 0.6729 - val_auc: 0.9070\n",
      "Epoch 5/35\n",
      "595/595 [==============================] - 15s 25ms/step - loss: 0.6525 - accuracy: 0.6910 - auc: 0.9185 - val_loss: 0.6462 - val_accuracy: 0.7030 - val_auc: 0.9219\n",
      "Epoch 6/35\n",
      "595/595 [==============================] - 15s 25ms/step - loss: 0.5616 - accuracy: 0.7439 - auc: 0.9407 - val_loss: 0.5280 - val_accuracy: 0.7561 - val_auc: 0.9484\n",
      "Epoch 7/35\n",
      "595/595 [==============================] - 15s 25ms/step - loss: 0.4527 - accuracy: 0.7968 - auc: 0.9612 - val_loss: 0.5066 - val_accuracy: 0.7797 - val_auc: 0.9532\n",
      "Epoch 8/35\n",
      "595/595 [==============================] - 15s 25ms/step - loss: 0.3927 - accuracy: 0.8264 - auc: 0.9711 - val_loss: 0.4520 - val_accuracy: 0.8020 - val_auc: 0.9622\n",
      "Epoch 9/35\n",
      "595/595 [==============================] - 15s 25ms/step - loss: 0.3074 - accuracy: 0.8701 - auc: 0.9821 - val_loss: 0.4132 - val_accuracy: 0.8343 - val_auc: 0.9702\n",
      "Epoch 10/35\n",
      "595/595 [==============================] - 15s 25ms/step - loss: 0.2466 - accuracy: 0.9009 - auc: 0.9883 - val_loss: 0.3866 - val_accuracy: 0.8573 - val_auc: 0.9750\n",
      "Epoch 11/35\n",
      "595/595 [==============================] - 15s 25ms/step - loss: 0.1875 - accuracy: 0.9273 - auc: 0.9930 - val_loss: 0.4036 - val_accuracy: 0.8653 - val_auc: 0.9750\n",
      "Epoch 12/35\n",
      "595/595 [==============================] - 15s 25ms/step - loss: 0.1602 - accuracy: 0.9383 - auc: 0.9948 - val_loss: 0.3396 - val_accuracy: 0.8753 - val_auc: 0.9802\n",
      "Epoch 13/35\n",
      "595/595 [==============================] - 15s 25ms/step - loss: 0.1221 - accuracy: 0.9547 - auc: 0.9967 - val_loss: 0.3990 - val_accuracy: 0.8785 - val_auc: 0.9756\n",
      "Epoch 14/35\n",
      "595/595 [==============================] - 15s 25ms/step - loss: 0.1011 - accuracy: 0.9622 - auc: 0.9976 - val_loss: 0.4751 - val_accuracy: 0.8560 - val_auc: 0.9694\n",
      "Epoch 15/35\n",
      "595/595 [==============================] - 15s 25ms/step - loss: 0.0958 - accuracy: 0.9654 - auc: 0.9976 - val_loss: 0.3567 - val_accuracy: 0.8863 - val_auc: 0.9794\n",
      "Epoch 16/35\n",
      "595/595 [==============================] - 15s 25ms/step - loss: 0.0842 - accuracy: 0.9687 - auc: 0.9982 - val_loss: 0.3288 - val_accuracy: 0.8943 - val_auc: 0.9819\n",
      "Epoch 17/35\n",
      "595/595 [==============================] - 15s 25ms/step - loss: 0.0710 - accuracy: 0.9748 - auc: 0.9984 - val_loss: 0.3995 - val_accuracy: 0.8867 - val_auc: 0.9774\n",
      "Epoch 18/35\n",
      "595/595 [==============================] - 15s 25ms/step - loss: 0.0606 - accuracy: 0.9789 - auc: 0.9989 - val_loss: 0.3816 - val_accuracy: 0.9010 - val_auc: 0.9778\n",
      "Epoch 19/35\n",
      "595/595 [==============================] - 15s 25ms/step - loss: 0.0680 - accuracy: 0.9779 - auc: 0.9985 - val_loss: 0.3663 - val_accuracy: 0.8959 - val_auc: 0.9784\n",
      "Epoch 20/35\n",
      "595/595 [==============================] - 15s 25ms/step - loss: 0.0565 - accuracy: 0.9803 - auc: 0.9988 - val_loss: 0.3602 - val_accuracy: 0.8997 - val_auc: 0.9792\n",
      "Epoch 21/35\n",
      "595/595 [==============================] - 15s 25ms/step - loss: 0.0559 - accuracy: 0.9808 - auc: 0.9990 - val_loss: 0.3716 - val_accuracy: 0.8938 - val_auc: 0.9795\n",
      "Epoch 22/35\n",
      "595/595 [==============================] - 15s 25ms/step - loss: 0.0572 - accuracy: 0.9809 - auc: 0.9988 - val_loss: 0.3896 - val_accuracy: 0.8980 - val_auc: 0.9779\n",
      "Epoch 23/35\n",
      "595/595 [==============================] - 15s 25ms/step - loss: 0.0482 - accuracy: 0.9845 - auc: 0.9990 - val_loss: 0.3399 - val_accuracy: 0.9062 - val_auc: 0.9823\n",
      "Epoch 24/35\n",
      "595/595 [==============================] - 15s 25ms/step - loss: 0.0586 - accuracy: 0.9808 - auc: 0.9987 - val_loss: 0.4984 - val_accuracy: 0.8497 - val_auc: 0.9657\n",
      "Epoch 25/35\n",
      "595/595 [==============================] - 15s 25ms/step - loss: 0.0517 - accuracy: 0.9832 - auc: 0.9990 - val_loss: 0.3952 - val_accuracy: 0.8991 - val_auc: 0.9781\n",
      "Epoch 26/35\n",
      "595/595 [==============================] - 15s 26ms/step - loss: 0.0529 - accuracy: 0.9829 - auc: 0.9988 - val_loss: 0.3246 - val_accuracy: 0.9025 - val_auc: 0.9815\n",
      "Epoch 27/35\n",
      "595/595 [==============================] - 15s 25ms/step - loss: 0.0448 - accuracy: 0.9858 - auc: 0.9989 - val_loss: 0.3767 - val_accuracy: 0.9052 - val_auc: 0.9799\n",
      "Epoch 28/35\n",
      "595/595 [==============================] - 15s 25ms/step - loss: 0.0435 - accuracy: 0.9854 - auc: 0.9991 - val_loss: 0.4214 - val_accuracy: 0.8972 - val_auc: 0.9759\n",
      "Epoch 29/35\n",
      "595/595 [==============================] - 15s 26ms/step - loss: 0.0463 - accuracy: 0.9848 - auc: 0.9991 - val_loss: 0.4108 - val_accuracy: 0.8997 - val_auc: 0.9767\n",
      "Epoch 30/35\n",
      "595/595 [==============================] - 15s 25ms/step - loss: 0.0479 - accuracy: 0.9849 - auc: 0.9991 - val_loss: 0.4811 - val_accuracy: 0.8926 - val_auc: 0.9715\n",
      "Epoch 31/35\n",
      "595/595 [==============================] - 15s 26ms/step - loss: 0.0308 - accuracy: 0.9890 - auc: 0.9995 - val_loss: 0.4640 - val_accuracy: 0.8968 - val_auc: 0.9736\n",
      "Epoch 32/35\n",
      "595/595 [==============================] - 15s 24ms/step - loss: 0.0449 - accuracy: 0.9856 - auc: 0.9991 - val_loss: 0.4718 - val_accuracy: 0.8951 - val_auc: 0.9740\n",
      "Epoch 33/35\n",
      "595/595 [==============================] - 15s 25ms/step - loss: 0.0472 - accuracy: 0.9852 - auc: 0.9991 - val_loss: 0.4109 - val_accuracy: 0.9096 - val_auc: 0.9769\n",
      "Epoch 34/35\n",
      "595/595 [==============================] - 15s 25ms/step - loss: 0.0309 - accuracy: 0.9890 - auc: 0.9995 - val_loss: 0.5523 - val_accuracy: 0.9016 - val_auc: 0.9696\n",
      "Epoch 35/35\n",
      "595/595 [==============================] - 15s 25ms/step - loss: 0.0428 - accuracy: 0.9874 - auc: 0.9990 - val_loss: 0.3588 - val_accuracy: 0.9117 - val_auc: 0.9800\n"
     ]
    }
   ],
   "source": [
    "# Training the model\n",
    "history_model = model.fit(\n",
    "    train_generator,\n",
    "    epochs=35,\n",
    "    validation_data=validation_generator,\n",
    "    callbacks=[trainCallback]\n",
    ")"
   ]
  },
  {
   "cell_type": "code",
   "execution_count": null,
   "id": "c6019d5f",
   "metadata": {},
   "outputs": [],
   "source": []
  },
  {
   "cell_type": "markdown",
   "id": "c6ae00c8",
   "metadata": {},
   "source": [
    "# Evaluate Model"
   ]
  },
  {
   "cell_type": "code",
   "execution_count": 38,
   "id": "7cca31a3",
   "metadata": {},
   "outputs": [
    {
     "name": "stdout",
     "output_type": "stream",
     "text": [
      "319/319 [==============================] - 4s 12ms/step - loss: 0.3659 - accuracy: 0.9096 - auc: 0.9801\n"
     ]
    },
    {
     "data": {
      "text/plain": [
       "[0.3659439980983734, 0.9095634818077087, 0.9801185131072998]"
      ]
     },
     "execution_count": 38,
     "metadata": {},
     "output_type": "execute_result"
    }
   ],
   "source": [
    "# Model evaluation\n",
    "model.evaluate(testing_generator)"
   ]
  },
  {
   "cell_type": "code",
   "execution_count": 39,
   "id": "69368700",
   "metadata": {},
   "outputs": [
    {
     "name": "stdout",
     "output_type": "stream",
     "text": [
      "319/319 [==============================] - 3s 11ms/step\n"
     ]
    }
   ],
   "source": [
    "# Model prediction\n",
    "y_true = testing_generator.classes\n",
    "y_pred_probs = model.predict(testing_generator)\n",
    "y_pred = np.argmax(y_pred_probs, axis=1)"
   ]
  },
  {
   "cell_type": "code",
   "execution_count": 31,
   "id": "6d208859",
   "metadata": {},
   "outputs": [
    {
     "data": {
      "text/plain": [
       "array([2, 3, 2, ..., 3, 0, 3])"
      ]
     },
     "execution_count": 31,
     "metadata": {},
     "output_type": "execute_result"
    }
   ],
   "source": [
    "y_pred"
   ]
  },
  {
   "cell_type": "code",
   "execution_count": 32,
   "id": "52800c4b",
   "metadata": {},
   "outputs": [
    {
     "data": {
      "text/plain": [
       "2580"
      ]
     },
     "execution_count": 32,
     "metadata": {},
     "output_type": "execute_result"
    }
   ],
   "source": [
    "692 + 375+ 778 + 735 "
   ]
  },
  {
   "cell_type": "code",
   "execution_count": 40,
   "id": "5916a51b",
   "metadata": {},
   "outputs": [
    {
     "data": {
      "image/png": "[encoded data removed]",
      "text/plain": [
       "<Figure size 640x480 with 2 Axes>"
      ]
     },
     "metadata": {},
     "output_type": "display_data"
    }
   ],
   "source": [
    "# Confusion matrix\n",
    "cm = confusion_matrix(y_true, y_pred)\n",
    "\n",
    "# Create confusion matrix display\n",
    "disp = ConfusionMatrixDisplay(\n",
    "    confusion_matrix=cm)\n",
    "\n",
    "disp.plot(cmap=plt.cm.Blues)\n",
    "plt.show()"
   ]
  },
  {
   "cell_type": "code",
   "execution_count": 41,
   "id": "ec7488a1",
   "metadata": {},
   "outputs": [
    {
     "data": {
      "image/png": "[encoded data removed]",
      "text/plain": [
       "<Figure size 640x480 with 1 Axes>"
      ]
     },
     "metadata": {},
     "output_type": "display_data"
    }
   ],
   "source": [
    "train_history_model = pd.DataFrame(history_model.history)\n",
    "train_history_model.index.name = 'epochs'\n",
    "\n",
    "col_list = ['loss', 'val_loss']\n",
    "train_history_model[col_list].plot()\n",
    "plt.ylabel('Categorical cross entropy')\n",
    "plt.title('Training loss history')\n",
    "plt.show()"
   ]
  },
  {
   "cell_type": "code",
   "execution_count": 42,
   "id": "48d28a58",
   "metadata": {},
   "outputs": [
    {
     "data": {
      "image/png": "[encoded data removed]",
      "text/plain": [
       "<Figure size 640x480 with 1 Axes>"
      ]
     },
     "metadata": {},
     "output_type": "display_data"
    }
   ],
   "source": [
    "col_list = ['accuracy', 'val_accuracy']\n",
    "train_history_model[col_list].plot()\n",
    "plt.ylabel('Accuracy')\n",
    "plt.title('Training loss history')\n",
    "plt.show()"
   ]
  },
  {
   "cell_type": "code",
   "execution_count": null,
   "id": "927a859f",
   "metadata": {},
   "outputs": [],
   "source": []
  },
  {
   "cell_type": "code",
   "execution_count": null,
   "id": "093c828d",
   "metadata": {},
   "outputs": [],
   "source": []
  },
  {
   "cell_type": "markdown",
   "id": "d322ee4a",
   "metadata": {},
   "source": [
    "# Visualize the Model/Architecture"
   ]
  },
  {
   "cell_type": "code",
   "execution_count": null,
   "id": "16e31520",
   "metadata": {},
   "outputs": [],
   "source": [
    "# visualizer(model, file_format='png', view=True, file_name='Conv2D_model')"
   ]
  }
 ],
 "metadata": {
  "kernelspec": {
   "display_name": "Python 3 (ipykernel)",
   "language": "python",
   "name": "python3"
  },
  "language_info": {
   "codemirror_mode": {
    "name": "ipython",
    "version": 3
   },
   "file_extension": ".py",
   "mimetype": "text/x-python",
   "name": "python",
   "nbconvert_exporter": "python",
   "pygments_lexer": "ipython3",
   "version": "3.8.13"
  }
 },
 "nbformat": 4,
 "nbformat_minor": 5
}
