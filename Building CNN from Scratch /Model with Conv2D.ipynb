{
 "cells": [
  {
   "cell_type": "markdown",
   "id": "ac8105b1",
   "metadata": {},
   "source": [
    "# Imports"
   ]
  },
  {
   "cell_type": "code",
   "execution_count": 248,
   "id": "0a2824c6",
   "metadata": {},
   "outputs": [],
   "source": [
    "import pandas as pd\n",
    "import numpy as np\n",
    "import matplotlib.pyplot as plt\n",
    "\n",
    "\n",
    "import os\n",
    "import cv2\n",
    "import shutil\n",
    "\n",
    "import tensorflow as tf\n",
    "from tensorflow.keras.models import Sequential\n",
    "from tensorflow.keras.utils import to_categorical\n",
    "from tensorflow.keras.layers import Conv2D, Flatten, Dense, MaxPooling2D\n",
    "from tensorflow.keras.callbacks import EarlyStopping\n",
    "from tensorflow.keras.optimizers import Adam\n",
    "from tensorflow.keras.preprocessing.image import ImageDataGenerator\n",
    "\n",
    "from sklearn.model_selection import train_test_split\n",
    "\n",
    "\n",
    "from sklearn.metrics import confusion_matrix, ConfusionMatrixDisplay\n",
    "from sklearn.metrics import classification_report\n",
    "from sklearn.metrics import plot_roc_curve, auc,roc_curve,roc_auc_score\n"
   ]
  },
  {
   "cell_type": "markdown",
   "id": "93ab2ea7",
   "metadata": {},
   "source": [
    "# Checking out an Image"
   ]
  },
  {
   "cell_type": "code",
   "execution_count": 249,
   "id": "4a9e6c3d",
   "metadata": {},
   "outputs": [],
   "source": [
    "# # loading and testing out data \n",
    "# img = cv2.imread(os.path.join('Data','VeryMildDemented','2b70a7c4-b97a-4887-8e5f-85c079e7b275.jpg'))\n",
    "# print(img.shape)\n",
    "# plt.imshow(img);\n",
    "# # plt.imshow(cv2.cvtColor(img, cv2.COLOR_BGR2RGB));\n",
    "# # if you have color problem use this "
   ]
  },
  {
   "cell_type": "markdown",
   "id": "838f6d19",
   "metadata": {},
   "source": [
    "# Spliting out Data into Train and Test Directories with a 30% Split"
   ]
  },
  {
   "cell_type": "code",
   "execution_count": 250,
   "id": "fe94e0c6",
   "metadata": {},
   "outputs": [
    {
     "name": "stdout",
     "output_type": "stream",
     "text": [
      "8960\n",
      "6464\n",
      "8960\n",
      "9600\n"
     ]
    }
   ],
   "source": [
    "# Total in each Folder\n",
    "print(len(os.listdir('Data/VeryMildDemented')) )\n",
    "print(len(os.listdir('Data/ModerateDemented')))\n",
    "print(len(os.listdir('Data/MildDemented')))\n",
    "print(len(os.listdir('Data/NonDemented')))"
   ]
  },
  {
   "cell_type": "code",
   "execution_count": 251,
   "id": "18e717f9",
   "metadata": {
    "scrolled": false
   },
   "outputs": [
    {
     "name": "stdout",
     "output_type": "stream",
     "text": [
      "2688.0\n",
      "1939.1999999999998\n",
      "2688.0\n",
      "2880.0\n"
     ]
    }
   ],
   "source": [
    "# Figure out how much is 30% of each folder\n",
    "print(len(os.listdir('Data/VeryMildDemented')) * .3)\n",
    "print(len(os.listdir('Data/ModerateDemented')) * .3)\n",
    "print(len(os.listdir('Data/MildDemented')) * .3 )\n",
    "print(len(os.listdir('Data/NonDemented')) * .3)"
   ]
  },
  {
   "cell_type": "code",
   "execution_count": 252,
   "id": "aea0e5ec",
   "metadata": {},
   "outputs": [],
   "source": [
    "# Creating a dictonary for each folder name and value\n",
    "val_dic = {'VeryMildDemented':2688, 'ModerateDemented':1939, 'MildDemented':2688, 'NonDemented':2880}"
   ]
  },
  {
   "cell_type": "code",
   "execution_count": 253,
   "id": "ec2a53a8",
   "metadata": {},
   "outputs": [],
   "source": [
    "# making a copy of the each images from Data directory to Test directory\n",
    "for val, key in val_dic.items():\n",
    "    origin = f'Data/{val}/'\n",
    "    test = f'Train:Test/Test/{val}/'\n",
    "    \n",
    "    files = os.listdir(origin)[:key]\n",
    "    \n",
    "    # Fetching all the files to directory\n",
    "    for file_name in files:\n",
    "        shutil.copy(origin+file_name, test+file_name)\n"
   ]
  },
  {
   "cell_type": "code",
   "execution_count": 254,
   "id": "77bad7dc",
   "metadata": {},
   "outputs": [],
   "source": [
    "# making a copy of the each images from Data directory to Train directory\n",
    "for val, key in val_dic.items():\n",
    "    origin = f'Data/{val}/'\n",
    "    train = f'Train:Test/Train/{val}/'\n",
    "    \n",
    "    files = os.listdir(origin)[key:]\n",
    "    \n",
    "    # Fetching all the files to directory\n",
    "    for file_name in files:\n",
    "        shutil.copy(origin+file_name, train+file_name)"
   ]
  },
  {
   "cell_type": "code",
   "execution_count": 255,
   "id": "1a66bd10",
   "metadata": {},
   "outputs": [
    {
     "name": "stdout",
     "output_type": "stream",
     "text": [
      "2688\n",
      "1939\n",
      "2688\n",
      "2880\n"
     ]
    }
   ],
   "source": [
    "# Checking the Length of the Test Directory \n",
    "print(len(os.listdir('Train:Test/Test/VeryMildDemented/')))\n",
    "print(len(os.listdir('Train:Test/Test/ModerateDemented/')))\n",
    "print(len(os.listdir('Train:Test/Test/MildDemented/')))\n",
    "print(len(os.listdir('Train:Test/Test/NonDemented/')))"
   ]
  },
  {
   "cell_type": "code",
   "execution_count": 256,
   "id": "c03d4feb",
   "metadata": {},
   "outputs": [
    {
     "name": "stdout",
     "output_type": "stream",
     "text": [
      "6272\n",
      "4525\n",
      "6272\n",
      "6720\n"
     ]
    }
   ],
   "source": [
    "# Checking the Length of the Train Directory \n",
    "print(len(os.listdir('Train:Test/Train/VeryMildDemented/')))\n",
    "print(len(os.listdir('Train:Test/Train/ModerateDemented/')))\n",
    "print(len(os.listdir('Train:Test/Train/MildDemented/')))\n",
    "print(len(os.listdir('Train:Test/Train/NonDemented/')))"
   ]
  },
  {
   "cell_type": "code",
   "execution_count": 257,
   "id": "5d34fe53",
   "metadata": {},
   "outputs": [
    {
     "name": "stdout",
     "output_type": "stream",
     "text": [
      "Success for VeryMildDemented\n",
      "Success for ModerateDemented\n",
      "Success for MildDemented\n",
      "Success for NonDemented\n"
     ]
    }
   ],
   "source": [
    "# making sure both directory add up to the Full data Directory \n",
    "\n",
    "for x in os.listdir('Data'):\n",
    "    if len(os.listdir(f'Data/{x}')) ==  ( len(os.listdir(f'Train:Test/Test/{x}')) + len(os.listdir(f'Train:Test/Train/{x}')) ):\n",
    "        print(f'Success for {x}')\n",
    "        "
   ]
  },
  {
   "cell_type": "markdown",
   "id": "87941057",
   "metadata": {},
   "source": [
    "# Loading with ImageDataGenerator"
   ]
  },
  {
   "cell_type": "code",
   "execution_count": 258,
   "id": "46e02ce4",
   "metadata": {},
   "outputs": [
    {
     "name": "stdout",
     "output_type": "stream",
     "text": [
      "['.DS_Store', 'VeryMildDemented', 'ModerateDemented', 'MildDemented', 'NonDemented']\n",
      "['.DS_Store', 'VeryMildDemented', 'ModerateDemented', 'MildDemented', 'NonDemented']\n"
     ]
    }
   ],
   "source": [
    "# Path to the directory containing the training images\n",
    "train_dir = 'Train:Test/Train/'\n",
    "test_dir = 'Train:Test/Test/'\n",
    "print(os.listdir(train_dir))\n",
    "print(os.listdir(test_dir))"
   ]
  },
  {
   "cell_type": "code",
   "execution_count": 259,
   "id": "f27fc086",
   "metadata": {},
   "outputs": [],
   "source": [
    "image_size = (50, 50)\n",
    "# Image dimensions"
   ]
  },
  {
   "cell_type": "code",
   "execution_count": 260,
   "id": "bec521c5",
   "metadata": {},
   "outputs": [],
   "source": [
    "# Creating an instance of the ImageDataGenerator with data augmentation and validation split\n",
    "datagen = ImageDataGenerator(\n",
    "    rescale=1.0 / 255,         # Rescale pixel values between 0 and 1\n",
    "#     horizontal_flip=True,     # Randomly flip images horizontally\n",
    "#     rotation_range=20,         # Randomly rotate images by 20 degrees\n",
    "#     vertical_flip=True,        # Randomly flip images vertically\n",
    "#     Flips and rotations dont really help\n",
    "    validation_split=0.2       # Split 20% of data for validation\n",
    ")\n",
    "\n",
    "\n",
    "# Creating an instance of the ImageDataGenerator for the Testing\n",
    "test_datagen = ImageDataGenerator(\n",
    "    rescale=1.0 / 255,         # Rescale pixel values between 0 and 1\n",
    ")\n"
   ]
  },
  {
   "cell_type": "code",
   "execution_count": 261,
   "id": "4ff46d78",
   "metadata": {},
   "outputs": [
    {
     "name": "stdout",
     "output_type": "stream",
     "text": [
      "Found 19032 images belonging to 4 classes.\n"
     ]
    }
   ],
   "source": [
    "# Generating training data from the images in the specified directory\n",
    "train_generator = datagen.flow_from_directory(\n",
    "    train_dir,\n",
    "    target_size=image_size,\n",
    "    batch_size=32,\n",
    "    class_mode='categorical',\n",
    "    subset='training'          # Use subset 'training' for training data\n",
    ")"
   ]
  },
  {
   "cell_type": "code",
   "execution_count": 262,
   "id": "643b9421",
   "metadata": {
    "scrolled": true
   },
   "outputs": [
    {
     "name": "stdout",
     "output_type": "stream",
     "text": [
      "Found 4757 images belonging to 4 classes.\n"
     ]
    }
   ],
   "source": [
    "# Generating validation data from the images in the specified directory\n",
    "validation_generator = datagen.flow_from_directory(\n",
    "    train_dir,\n",
    "    target_size=image_size,\n",
    "    batch_size=32,\n",
    "    class_mode='categorical',\n",
    "    subset='validation'        # Use subset 'validation' for validation data\n",
    ")"
   ]
  },
  {
   "cell_type": "code",
   "execution_count": 263,
   "id": "a177b45a",
   "metadata": {},
   "outputs": [
    {
     "name": "stdout",
     "output_type": "stream",
     "text": [
      "Found 10195 images belonging to 4 classes.\n"
     ]
    }
   ],
   "source": [
    "# Generating Testing data from the images in the specified directory\n",
    "testing_generator = test_datagen.flow_from_directory(\n",
    "    test_dir,\n",
    "    target_size=image_size,\n",
    "    batch_size=32,\n",
    "    class_mode='categorical'\n",
    ")"
   ]
  },
  {
   "cell_type": "markdown",
   "id": "71a9f626",
   "metadata": {},
   "source": [
    "# Build Model"
   ]
  },
  {
   "cell_type": "code",
   "execution_count": 8,
   "id": "c5c979bd",
   "metadata": {
    "scrolled": true
   },
   "outputs": [
    {
     "name": "stdout",
     "output_type": "stream",
     "text": [
      "Metal device set to: Apple M2 Pro\n"
     ]
    },
    {
     "name": "stderr",
     "output_type": "stream",
     "text": [
      "2023-07-19 09:04:20.606374: I tensorflow/core/common_runtime/pluggable_device/pluggable_device_factory.cc:305] Could not identify NUMA node of platform GPU ID 0, defaulting to 0. Your kernel may not have been built with NUMA support.\n",
      "2023-07-19 09:04:20.606713: I tensorflow/core/common_runtime/pluggable_device/pluggable_device_factory.cc:271] Created TensorFlow device (/job:localhost/replica:0/task:0/device:GPU:0 with 0 MB memory) -> physical PluggableDevice (device: 0, name: METAL, pci bus id: <undefined>)\n"
     ]
    }
   ],
   "source": [
    "# model = Sequential()\n",
    "# model.add(Conv2D(16, (3,3), 1, activation = 'relu', input_shape =(50,50,3))) # 16 filter with (3,3) pixel in size, \n",
    "# #model looks at 1 pixel at a time\n",
    "# model.add(MaxPooling2D()) # max pool take the max value of the region it looks at and return that max value, \n",
    "# #default (2,2)\n",
    "\n",
    "\n",
    "# model.add(Conv2D(32, (3,3), 1, activation = 'relu')) # 32 filter\n",
    "# model.add(MaxPooling2D())\n",
    "\n",
    "\n",
    "# model.add(Conv2D(16, (3,3), 1, activation = 'relu')) # 16 filter\n",
    "# model.add(MaxPooling2D())\n",
    "\n",
    "\n",
    "# model.add(Flatten())\n",
    "\n",
    "# model.add(Dense(256, activation='relu'))\n",
    "# model.add(Dense(4, activation='softmax'))\n",
    "\n",
    "\n",
    "\n",
    "# Trying a similar architecture as VG16\n",
    "model = Sequential()\n",
    "model.add(Conv2D(64, (3,3), 1, activation = 'relu', input_shape =(50,50,3)))\n",
    "model.add(Conv2D(64, (3,3), 1, activation = 'relu'))\n",
    "model.add(MaxPooling2D(2,2))\n",
    "\n",
    "model.add(Conv2D(128, (3,3), 1, activation = 'relu'))\n",
    "model.add(Conv2D(128, (3,3), 1, activation = 'relu'))\n",
    "model.add(MaxPooling2D(2,2))\n",
    "\n",
    "model.add(Conv2D(256, (3,3), 1, activation = 'relu'))\n",
    "model.add(Conv2D(256, (3,3), 1, activation = 'relu'))\n",
    "model.add(Conv2D(128, (3,3), 1, activation = 'relu'))\n",
    "model.add(MaxPooling2D(2,2))\n",
    "\n",
    "\n",
    "model.add(Flatten())\n",
    "\n",
    "model.add(Dense(256, activation='relu'))\n",
    "model.add(Dense(128, activation='relu'))\n",
    "model.add(Dense(64, activation='relu'))\n",
    "model.add(Dense(4, activation='softmax'))"
   ]
  },
  {
   "cell_type": "code",
   "execution_count": 9,
   "id": "52fcfe38",
   "metadata": {},
   "outputs": [],
   "source": [
    "opt = Adam(learning_rate = 1e-3, beta_1 = 0.9, beta_2 = 0.999 ) # typical parameters"
   ]
  },
  {
   "cell_type": "code",
   "execution_count": 10,
   "id": "86bf238c",
   "metadata": {},
   "outputs": [],
   "source": [
    "model.compile(optimizer=opt, loss='categorical_crossentropy', metrics=['accuracy','AUC'] )"
   ]
  },
  {
   "cell_type": "code",
   "execution_count": 11,
   "id": "203108b3",
   "metadata": {
    "scrolled": false
   },
   "outputs": [
    {
     "name": "stdout",
     "output_type": "stream",
     "text": [
      "Model: \"sequential\"\n",
      "_________________________________________________________________\n",
      " Layer (type)                Output Shape              Param #   \n",
      "=================================================================\n",
      " conv2d (Conv2D)             (None, 48, 48, 64)        1792      \n",
      "                                                                 \n",
      " conv2d_1 (Conv2D)           (None, 46, 46, 64)        36928     \n",
      "                                                                 \n",
      " max_pooling2d (MaxPooling2D  (None, 23, 23, 64)       0         \n",
      " )                                                               \n",
      "                                                                 \n",
      " conv2d_2 (Conv2D)           (None, 21, 21, 128)       73856     \n",
      "                                                                 \n",
      " conv2d_3 (Conv2D)           (None, 19, 19, 128)       147584    \n",
      "                                                                 \n",
      " max_pooling2d_1 (MaxPooling  (None, 9, 9, 128)        0         \n",
      " 2D)                                                             \n",
      "                                                                 \n",
      " conv2d_4 (Conv2D)           (None, 7, 7, 256)         295168    \n",
      "                                                                 \n",
      " conv2d_5 (Conv2D)           (None, 5, 5, 256)         590080    \n",
      "                                                                 \n",
      " conv2d_6 (Conv2D)           (None, 3, 3, 128)         295040    \n",
      "                                                                 \n",
      " max_pooling2d_2 (MaxPooling  (None, 1, 1, 128)        0         \n",
      " 2D)                                                             \n",
      "                                                                 \n",
      " flatten (Flatten)           (None, 128)               0         \n",
      "                                                                 \n",
      " dense (Dense)               (None, 256)               33024     \n",
      "                                                                 \n",
      " dense_1 (Dense)             (None, 128)               32896     \n",
      "                                                                 \n",
      " dense_2 (Dense)             (None, 64)                8256      \n",
      "                                                                 \n",
      " dense_3 (Dense)             (None, 4)                 260       \n",
      "                                                                 \n",
      "=================================================================\n",
      "Total params: 1,514,884\n",
      "Trainable params: 1,514,884\n",
      "Non-trainable params: 0\n",
      "_________________________________________________________________\n"
     ]
    }
   ],
   "source": [
    "model.summary()"
   ]
  },
  {
   "cell_type": "markdown",
   "id": "bd6b9fbe",
   "metadata": {},
   "source": [
    "# Visualize the Model"
   ]
  },
  {
   "cell_type": "code",
   "execution_count": 12,
   "id": "20236acc",
   "metadata": {},
   "outputs": [],
   "source": [
    "# visualizer(model, file_format='png', view=True, file_name='Conv2D_model')"
   ]
  },
  {
   "cell_type": "markdown",
   "id": "acff0479",
   "metadata": {},
   "source": [
    "# Fit Model"
   ]
  },
  {
   "cell_type": "code",
   "execution_count": 13,
   "id": "a9ab1f43",
   "metadata": {},
   "outputs": [],
   "source": [
    "#  will use validation loss: stopping to prevent overfitting.\n",
    "trainCallback = EarlyStopping(monitor='loss', min_delta = 1e-6, patience = 5)"
   ]
  },
  {
   "cell_type": "code",
   "execution_count": 14,
   "id": "a46ff564",
   "metadata": {
    "scrolled": true
   },
   "outputs": [
    {
     "name": "stdout",
     "output_type": "stream",
     "text": [
      "Epoch 1/35\n"
     ]
    },
    {
     "name": "stderr",
     "output_type": "stream",
     "text": [
      "2023-07-19 09:04:20.844254: W tensorflow/core/platform/profile_utils/cpu_utils.cc:128] Failed to get CPU frequency: 0 Hz\n",
      "2023-07-19 09:04:21.148320: I tensorflow/core/grappler/optimizers/custom_graph_optimizer_registry.cc:113] Plugin optimizer for device_type GPU is enabled.\n"
     ]
    },
    {
     "name": "stdout",
     "output_type": "stream",
     "text": [
      "848/850 [============================>.] - ETA: 0s - loss: 1.3769 - accuracy: 0.2791 - auc: 0.5455"
     ]
    },
    {
     "name": "stderr",
     "output_type": "stream",
     "text": [
      "2023-07-19 09:04:39.093151: I tensorflow/core/grappler/optimizers/custom_graph_optimizer_registry.cc:113] Plugin optimizer for device_type GPU is enabled.\n"
     ]
    },
    {
     "name": "stdout",
     "output_type": "stream",
     "text": [
      "850/850 [==============================] - 22s 25ms/step - loss: 1.3769 - accuracy: 0.2792 - auc: 0.5455 - val_loss: 1.3760 - val_accuracy: 0.2825 - val_auc: 0.5431\n",
      "Epoch 2/35\n",
      "850/850 [==============================] - 21s 24ms/step - loss: 1.3761 - accuracy: 0.2787 - auc: 0.5460 - val_loss: 1.3761 - val_accuracy: 0.2825 - val_auc: 0.5431\n",
      "Epoch 3/35\n",
      "850/850 [==============================] - 22s 25ms/step - loss: 1.2378 - accuracy: 0.3765 - auc: 0.6709 - val_loss: 0.9089 - val_accuracy: 0.5784 - val_auc: 0.8446\n",
      "Epoch 4/35\n",
      "850/850 [==============================] - 21s 25ms/step - loss: 0.7909 - accuracy: 0.6146 - auc: 0.8779 - val_loss: 0.7141 - val_accuracy: 0.6499 - val_auc: 0.8978\n",
      "Epoch 5/35\n",
      "850/850 [==============================] - 21s 25ms/step - loss: 0.6594 - accuracy: 0.6903 - auc: 0.9169 - val_loss: 0.5830 - val_accuracy: 0.7319 - val_auc: 0.9373\n",
      "Epoch 6/35\n",
      "850/850 [==============================] - 22s 26ms/step - loss: 0.5398 - accuracy: 0.7537 - auc: 0.9448 - val_loss: 0.6291 - val_accuracy: 0.7173 - val_auc: 0.9288\n",
      "Epoch 7/35\n",
      "850/850 [==============================] - 22s 26ms/step - loss: 0.4397 - accuracy: 0.8066 - auc: 0.9636 - val_loss: 0.4293 - val_accuracy: 0.8099 - val_auc: 0.9660\n",
      "Epoch 8/35\n",
      "850/850 [==============================] - 23s 28ms/step - loss: 0.3635 - accuracy: 0.8461 - auc: 0.9754 - val_loss: 0.3980 - val_accuracy: 0.8308 - val_auc: 0.9714\n",
      "Epoch 9/35\n",
      "850/850 [==============================] - 22s 26ms/step - loss: 0.2841 - accuracy: 0.8819 - auc: 0.9847 - val_loss: 0.4141 - val_accuracy: 0.8420 - val_auc: 0.9713\n",
      "Epoch 10/35\n",
      "850/850 [==============================] - 22s 26ms/step - loss: 0.2258 - accuracy: 0.9094 - auc: 0.9902 - val_loss: 0.3115 - val_accuracy: 0.8743 - val_auc: 0.9828\n",
      "Epoch 11/35\n",
      "850/850 [==============================] - 21s 25ms/step - loss: 0.1860 - accuracy: 0.9278 - auc: 0.9931 - val_loss: 0.3112 - val_accuracy: 0.8832 - val_auc: 0.9825\n",
      "Epoch 12/35\n",
      "850/850 [==============================] - 21s 25ms/step - loss: 0.1464 - accuracy: 0.9434 - auc: 0.9955 - val_loss: 0.3240 - val_accuracy: 0.8788 - val_auc: 0.9818\n",
      "Epoch 13/35\n",
      "850/850 [==============================] - 21s 25ms/step - loss: 0.1262 - accuracy: 0.9535 - auc: 0.9964 - val_loss: 0.2781 - val_accuracy: 0.8955 - val_auc: 0.9852\n",
      "Epoch 14/35\n",
      "850/850 [==============================] - 21s 25ms/step - loss: 0.1018 - accuracy: 0.9613 - auc: 0.9976 - val_loss: 0.3026 - val_accuracy: 0.8954 - val_auc: 0.9846\n",
      "Epoch 15/35\n",
      "850/850 [==============================] - 21s 25ms/step - loss: 0.0950 - accuracy: 0.9652 - auc: 0.9977 - val_loss: 0.3560 - val_accuracy: 0.8846 - val_auc: 0.9800\n",
      "Epoch 16/35\n",
      "850/850 [==============================] - 22s 26ms/step - loss: 0.0891 - accuracy: 0.9676 - auc: 0.9979 - val_loss: 0.3272 - val_accuracy: 0.9042 - val_auc: 0.9822\n",
      "Epoch 17/35\n",
      "850/850 [==============================] - 21s 25ms/step - loss: 0.0749 - accuracy: 0.9745 - auc: 0.9984 - val_loss: 0.3173 - val_accuracy: 0.9019 - val_auc: 0.9838\n",
      "Epoch 18/35\n",
      "850/850 [==============================] - 22s 25ms/step - loss: 0.0727 - accuracy: 0.9749 - auc: 0.9984 - val_loss: 0.3318 - val_accuracy: 0.9069 - val_auc: 0.9825\n",
      "Epoch 19/35\n",
      "850/850 [==============================] - 22s 26ms/step - loss: 0.0647 - accuracy: 0.9769 - auc: 0.9987 - val_loss: 0.3316 - val_accuracy: 0.9014 - val_auc: 0.9814\n",
      "Epoch 20/35\n",
      "850/850 [==============================] - 22s 25ms/step - loss: 0.0624 - accuracy: 0.9782 - auc: 0.9987 - val_loss: 0.3824 - val_accuracy: 0.8898 - val_auc: 0.9778\n",
      "Epoch 21/35\n",
      "850/850 [==============================] - 21s 25ms/step - loss: 0.0580 - accuracy: 0.9796 - auc: 0.9988 - val_loss: 0.2910 - val_accuracy: 0.9147 - val_auc: 0.9850\n",
      "Epoch 22/35\n",
      "850/850 [==============================] - 21s 25ms/step - loss: 0.0586 - accuracy: 0.9802 - auc: 0.9988 - val_loss: 0.3269 - val_accuracy: 0.9149 - val_auc: 0.9828\n",
      "Epoch 23/35\n",
      "850/850 [==============================] - 21s 25ms/step - loss: 0.0506 - accuracy: 0.9833 - auc: 0.9991 - val_loss: 0.3377 - val_accuracy: 0.9132 - val_auc: 0.9827\n",
      "Epoch 24/35\n",
      "850/850 [==============================] - 21s 25ms/step - loss: 0.0505 - accuracy: 0.9830 - auc: 0.9990 - val_loss: 0.4046 - val_accuracy: 0.8871 - val_auc: 0.9767\n",
      "Epoch 25/35\n",
      "850/850 [==============================] - 22s 25ms/step - loss: 0.0438 - accuracy: 0.9851 - auc: 0.9992 - val_loss: 0.4331 - val_accuracy: 0.8980 - val_auc: 0.9747\n",
      "Epoch 26/35\n",
      "850/850 [==============================] - 22s 25ms/step - loss: 0.0506 - accuracy: 0.9826 - auc: 0.9990 - val_loss: 0.3721 - val_accuracy: 0.9132 - val_auc: 0.9806\n",
      "Epoch 27/35\n",
      "850/850 [==============================] - 21s 25ms/step - loss: 0.0466 - accuracy: 0.9847 - auc: 0.9991 - val_loss: 0.3573 - val_accuracy: 0.9214 - val_auc: 0.9803\n",
      "Epoch 28/35\n",
      "850/850 [==============================] - 22s 25ms/step - loss: 0.0450 - accuracy: 0.9848 - auc: 0.9991 - val_loss: 0.3442 - val_accuracy: 0.9182 - val_auc: 0.9823\n",
      "Epoch 29/35\n",
      "850/850 [==============================] - 21s 25ms/step - loss: 0.0358 - accuracy: 0.9882 - auc: 0.9994 - val_loss: 0.3884 - val_accuracy: 0.9207 - val_auc: 0.9789\n",
      "Epoch 30/35\n",
      "850/850 [==============================] - 21s 25ms/step - loss: 0.0541 - accuracy: 0.9822 - auc: 0.9988 - val_loss: 0.3237 - val_accuracy: 0.9201 - val_auc: 0.9836\n",
      "Epoch 31/35\n",
      "850/850 [==============================] - 21s 25ms/step - loss: 0.0344 - accuracy: 0.9881 - auc: 0.9994 - val_loss: 0.2983 - val_accuracy: 0.9226 - val_auc: 0.9853\n",
      "Epoch 32/35\n",
      "850/850 [==============================] - 21s 25ms/step - loss: 0.0380 - accuracy: 0.9875 - auc: 0.9993 - val_loss: 0.3352 - val_accuracy: 0.9238 - val_auc: 0.9839\n",
      "Epoch 33/35\n",
      "850/850 [==============================] - 21s 25ms/step - loss: 0.0451 - accuracy: 0.9853 - auc: 0.9990 - val_loss: 0.2965 - val_accuracy: 0.9230 - val_auc: 0.9854\n",
      "Epoch 34/35\n",
      "850/850 [==============================] - 21s 25ms/step - loss: 0.0591 - accuracy: 0.9822 - auc: 0.9987 - val_loss: 0.3074 - val_accuracy: 0.9235 - val_auc: 0.9841\n",
      "Epoch 35/35\n",
      "850/850 [==============================] - 21s 25ms/step - loss: 0.0324 - accuracy: 0.9897 - auc: 0.9993 - val_loss: 0.4783 - val_accuracy: 0.9024 - val_auc: 0.9732\n"
     ]
    }
   ],
   "source": [
    "# Training the model\n",
    "history_model = model.fit(\n",
    "    train_generator,\n",
    "    epochs=35,\n",
    "    validation_data=validation_generator,\n",
    "    callbacks=[trainCallback]\n",
    ")"
   ]
  },
  {
   "cell_type": "code",
   "execution_count": null,
   "id": "c6019d5f",
   "metadata": {},
   "outputs": [],
   "source": []
  },
  {
   "cell_type": "markdown",
   "id": "c6ae00c8",
   "metadata": {},
   "source": [
    "# Evaluate Model"
   ]
  },
  {
   "cell_type": "code",
   "execution_count": 15,
   "id": "7cca31a3",
   "metadata": {},
   "outputs": [
    {
     "name": "stdout",
     "output_type": "stream",
     "text": [
      "213/213 [==============================] - 3s 13ms/step - loss: 0.4783 - accuracy: 0.9024 - auc: 0.9732\n"
     ]
    },
    {
     "data": {
      "text/plain": [
       "[0.47834512591362, 0.9024426341056824, 0.9731830358505249]"
      ]
     },
     "execution_count": 15,
     "metadata": {},
     "output_type": "execute_result"
    }
   ],
   "source": [
    "# Model evaluation\n",
    "model.evaluate(testing_generator)"
   ]
  },
  {
   "cell_type": "code",
   "execution_count": 16,
   "id": "69368700",
   "metadata": {},
   "outputs": [
    {
     "name": "stdout",
     "output_type": "stream",
     "text": [
      " 11/213 [>.............................] - ETA: 2s"
     ]
    },
    {
     "name": "stderr",
     "output_type": "stream",
     "text": [
      "2023-07-19 09:16:56.677497: I tensorflow/core/grappler/optimizers/custom_graph_optimizer_registry.cc:113] Plugin optimizer for device_type GPU is enabled.\n"
     ]
    },
    {
     "name": "stdout",
     "output_type": "stream",
     "text": [
      "213/213 [==============================] - 2s 11ms/step\n"
     ]
    }
   ],
   "source": [
    "# Model prediction\n",
    "y_true = testing_generator.classes\n",
    "y_pred_probs = model.predict(testing_generator)\n",
    "y_pred = np.argmax(y_pred_probs, axis=1)"
   ]
  },
  {
   "cell_type": "code",
   "execution_count": 17,
   "id": "5916a51b",
   "metadata": {},
   "outputs": [
    {
     "data": {
      "image/png": "[encoded data removed]",
      "text/plain": [
       "<Figure size 640x480 with 2 Axes>"
      ]
     },
     "metadata": {},
     "output_type": "display_data"
    }
   ],
   "source": [
    "# Confusion matrix\n",
    "cm = confusion_matrix(y_true, y_pred)\n",
    "\n",
    "# Create confusion matrix display\n",
    "disp = ConfusionMatrixDisplay(\n",
    "    confusion_matrix=cm)\n",
    "\n",
    "disp.plot(cmap=plt.cm.Blues)\n",
    "plt.show()"
   ]
  },
  {
   "cell_type": "code",
   "execution_count": 18,
   "id": "ec7488a1",
   "metadata": {},
   "outputs": [
    {
     "data": {
      "image/png": "[encoded data removed]",
      "text/plain": [
       "<Figure size 640x480 with 1 Axes>"
      ]
     },
     "metadata": {},
     "output_type": "display_data"
    }
   ],
   "source": [
    "train_history_model = pd.DataFrame(history_model.history)\n",
    "train_history_model.index.name = 'epochs'\n",
    "\n",
    "col_list = ['loss', 'val_loss']\n",
    "train_history_model[col_list].plot()\n",
    "plt.ylabel('Categorical cross entropy')\n",
    "plt.title('Training loss history')\n",
    "plt.show()"
   ]
  },
  {
   "cell_type": "code",
   "execution_count": 19,
   "id": "48d28a58",
   "metadata": {},
   "outputs": [
    {
     "data": {
      "image/png": "[encoded data removed]",
      "text/plain": [
       "<Figure size 640x480 with 1 Axes>"
      ]
     },
     "metadata": {},
     "output_type": "display_data"
    }
   ],
   "source": [
    "col_list = ['accuracy', 'val_accuracy']\n",
    "train_history_model[col_list].plot()\n",
    "plt.ylabel('Accuracy')\n",
    "plt.title('Training loss history')\n",
    "plt.show()"
   ]
  },
  {
   "cell_type": "code",
   "execution_count": null,
   "id": "927a859f",
   "metadata": {},
   "outputs": [],
   "source": []
  },
  {
   "cell_type": "code",
   "execution_count": null,
   "id": "093c828d",
   "metadata": {},
   "outputs": [],
   "source": []
  }
 ],
 "metadata": {
  "kernelspec": {
   "display_name": "Python 3 (ipykernel)",
   "language": "python",
   "name": "python3"
  },
  "language_info": {
   "codemirror_mode": {
    "name": "ipython",
    "version": 3
   },
   "file_extension": ".py",
   "mimetype": "text/x-python",
   "name": "python",
   "nbconvert_exporter": "python",
   "pygments_lexer": "ipython3",
   "version": "3.8.13"
  }
 },
 "nbformat": 4,
 "nbformat_minor": 5
}
