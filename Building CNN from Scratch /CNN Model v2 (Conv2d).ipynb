{
 "cells": [
  {
   "cell_type": "markdown",
   "id": "a7831009",
   "metadata": {},
   "source": [
    "# Imports"
   ]
  },
  {
   "cell_type": "code",
   "execution_count": 1,
   "id": "0a2824c6",
   "metadata": {},
   "outputs": [],
   "source": [
    "import pandas as pd\n",
    "import numpy as np\n",
    "import matplotlib.pyplot as plt\n",
    "\n",
    "\n",
    "import os\n",
    "import cv2\n",
    "import shutil\n",
    "\n",
    "import tensorflow as tf\n",
    "from tensorflow.keras.models import Sequential\n",
    "from tensorflow.keras.utils import to_categorical\n",
    "from tensorflow.keras.layers import Conv2D, Flatten, Dense, MaxPooling2D\n",
    "from tensorflow.keras.callbacks import EarlyStopping\n",
    "from tensorflow.keras.optimizers import Adam\n",
    "from tensorflow.keras.preprocessing.image import ImageDataGenerator\n",
    "\n",
    "import visualkeras\n",
    "from PIL import ImageFont\n",
    "from ann_visualizer.visualize import ann_viz\n",
    "\n",
    "\n",
    "from sklearn.metrics import confusion_matrix, ConfusionMatrixDisplay"
   ]
  },
  {
   "cell_type": "markdown",
   "id": "dfb224bb",
   "metadata": {},
   "source": [
    "# Checking out an Image"
   ]
  },
  {
   "cell_type": "code",
   "execution_count": 2,
   "id": "4a9e6c3d",
   "metadata": {},
   "outputs": [],
   "source": [
    "# # loading and testing out data \n",
    "# img = cv2.imread(os.path.join('Data','VeryMildDemented','2b70a7c4-b97a-4887-8e5f-85c079e7b275.jpg'))\n",
    "# print(img.shape)\n",
    "# plt.imshow(img);\n",
    "# # plt.imshow(cv2.cvtColor(img, cv2.COLOR_BGR2RGB));\n",
    "# # if you have color problem use this "
   ]
  },
  {
   "cell_type": "markdown",
   "id": "fa85b03f",
   "metadata": {},
   "source": [
    "# Spliting out Data into Train and Test Directories with a 30% Split"
   ]
  },
  {
   "cell_type": "code",
   "execution_count": 3,
   "id": "8a1ff4a8",
   "metadata": {},
   "outputs": [
    {
     "name": "stdout",
     "output_type": "stream",
     "text": [
      "8960\n",
      "6464\n",
      "8960\n",
      "9600\n"
     ]
    }
   ],
   "source": [
    "# Total in each Folder\n",
    "print(len(os.listdir('Data/VeryMildDemented')) )\n",
    "print(len(os.listdir('Data/ModerateDemented')))\n",
    "print(len(os.listdir('Data/MildDemented')))\n",
    "print(len(os.listdir('Data/NonDemented')))"
   ]
  },
  {
   "cell_type": "code",
   "execution_count": 4,
   "id": "7b07e35a",
   "metadata": {
    "scrolled": false
   },
   "outputs": [
    {
     "name": "stdout",
     "output_type": "stream",
     "text": [
      "2688.0\n",
      "1939.1999999999998\n",
      "2688.0\n",
      "2880.0\n"
     ]
    }
   ],
   "source": [
    "# Figure out how much is 30% of each folder\n",
    "print(len(os.listdir('Data/VeryMildDemented')) * .3)\n",
    "print(len(os.listdir('Data/ModerateDemented')) * .3)\n",
    "print(len(os.listdir('Data/MildDemented')) * .3 )\n",
    "print(len(os.listdir('Data/NonDemented')) * .3)"
   ]
  },
  {
   "cell_type": "code",
   "execution_count": 5,
   "id": "86f808df",
   "metadata": {},
   "outputs": [],
   "source": [
    "# Creating a dictonary for each folder name and value\n",
    "val_dic = {'VeryMildDemented':2688, 'ModerateDemented':1939, 'MildDemented':2688, 'NonDemented':2880}"
   ]
  },
  {
   "cell_type": "code",
   "execution_count": 6,
   "id": "50e1661c",
   "metadata": {},
   "outputs": [],
   "source": [
    "# # making a copy of the each images from Data directory to Test directory\n",
    "# for val, key in val_dic.items():\n",
    "#     origin = f'Data/{val}/'\n",
    "#     test = f'Train:Test/Test/{val}/'\n",
    "    \n",
    "#     files = os.listdir(origin)[:key]\n",
    "    \n",
    "#     # Fetching all the files to directory\n",
    "#     for file_name in files:\n",
    "#         shutil.copy(origin+file_name, test+file_name)\n"
   ]
  },
  {
   "cell_type": "code",
   "execution_count": 7,
   "id": "6dfa761e",
   "metadata": {},
   "outputs": [],
   "source": [
    "# # making a copy of the each images from Data directory to Train directory\n",
    "# for val, key in val_dic.items():\n",
    "#     origin = f'Data/{val}/'\n",
    "#     train = f'Train:Test/Train/{val}/'\n",
    "    \n",
    "#     files = os.listdir(origin)[key:]\n",
    "    \n",
    "#     # Fetching all the files to directory\n",
    "#     for file_name in files:\n",
    "#         shutil.copy(origin+file_name, train+file_name)"
   ]
  },
  {
   "cell_type": "code",
   "execution_count": 8,
   "id": "cc6bbeb7",
   "metadata": {},
   "outputs": [
    {
     "name": "stdout",
     "output_type": "stream",
     "text": [
      "2688\n",
      "1939\n",
      "2688\n",
      "2880\n"
     ]
    }
   ],
   "source": [
    "# Checking the Length of the Test Directory \n",
    "print(len(os.listdir('Train:Test/Test/VeryMildDemented/')))\n",
    "print(len(os.listdir('Train:Test/Test/ModerateDemented/')))\n",
    "print(len(os.listdir('Train:Test/Test/MildDemented/')))\n",
    "print(len(os.listdir('Train:Test/Test/NonDemented/')))"
   ]
  },
  {
   "cell_type": "code",
   "execution_count": 9,
   "id": "c29bf9e3",
   "metadata": {},
   "outputs": [
    {
     "name": "stdout",
     "output_type": "stream",
     "text": [
      "6272\n",
      "4525\n",
      "6272\n",
      "6720\n"
     ]
    }
   ],
   "source": [
    "# Checking the Length of the Train Directory \n",
    "print(len(os.listdir('Train:Test/Train/VeryMildDemented/')))\n",
    "print(len(os.listdir('Train:Test/Train/ModerateDemented/')))\n",
    "print(len(os.listdir('Train:Test/Train/MildDemented/')))\n",
    "print(len(os.listdir('Train:Test/Train/NonDemented/')))"
   ]
  },
  {
   "cell_type": "code",
   "execution_count": 10,
   "id": "7c04bbaf",
   "metadata": {},
   "outputs": [],
   "source": [
    "# # making sure both directory add up to the Full data Directory \n",
    "\n",
    "# for x in os.listdir('Data'):\n",
    "#     if len(os.listdir(f'Data/{x}')) ==  ( len(os.listdir(f'Train:Test/Test/{x}')) + len(os.listdir(f'Train:Test/Train/{x}')) ):\n",
    "#         print(f'Success for {x}')\n",
    "        "
   ]
  },
  {
   "cell_type": "markdown",
   "id": "87941057",
   "metadata": {},
   "source": [
    "# Loading with ImageDataGenerator"
   ]
  },
  {
   "cell_type": "code",
   "execution_count": 11,
   "id": "564a859e",
   "metadata": {},
   "outputs": [
    {
     "name": "stdout",
     "output_type": "stream",
     "text": [
      "['.DS_Store', 'VeryMildDemented', 'ModerateDemented', 'MildDemented', 'NonDemented']\n",
      "['.DS_Store', 'VeryMildDemented', 'ModerateDemented', 'MildDemented', 'NonDemented']\n"
     ]
    }
   ],
   "source": [
    "# Path to the directory containing the training images\n",
    "train_dir = 'Train:Test/Train/'\n",
    "test_dir = 'Train:Test/Test/'\n",
    "print(os.listdir(train_dir))\n",
    "print(os.listdir(test_dir))"
   ]
  },
  {
   "cell_type": "code",
   "execution_count": 12,
   "id": "5520d92d",
   "metadata": {},
   "outputs": [],
   "source": [
    "image_size = (50, 50)\n",
    "# Image dimensions"
   ]
  },
  {
   "cell_type": "code",
   "execution_count": 13,
   "id": "bec521c5",
   "metadata": {},
   "outputs": [],
   "source": [
    "# Creating an instance of the ImageDataGenerator with data augmentation and validation split\n",
    "datagen = ImageDataGenerator(\n",
    "    rescale=1.0 / 255,         # Rescale pixel values between 0 and 1\n",
    "#     horizontal_flip=True,     # Randomly flip images horizontally\n",
    "#     rotation_range=20,         # Randomly rotate images by 20 degrees\n",
    "#     vertical_flip=True,        # Randomly flip images vertically\n",
    "#     Flips and rotations dont really help\n",
    "    validation_split=0.2       # Split 20% of data for validation\n",
    ")\n",
    "\n",
    "\n",
    "# Creating an instance of the ImageDataGenerator for the Testing\n",
    "test_datagen = ImageDataGenerator(\n",
    "    rescale=1.0 / 255,         # Rescale pixel values between 0 and 1\n",
    ")\n"
   ]
  },
  {
   "cell_type": "code",
   "execution_count": 14,
   "id": "4ff46d78",
   "metadata": {},
   "outputs": [
    {
     "name": "stdout",
     "output_type": "stream",
     "text": [
      "Found 19032 images belonging to 4 classes.\n"
     ]
    }
   ],
   "source": [
    "# Generating training data from the images in the specified directory\n",
    "train_generator = datagen.flow_from_directory(\n",
    "    train_dir,\n",
    "    target_size=image_size,\n",
    "    batch_size=32,\n",
    "    class_mode='categorical',\n",
    "    subset='training'# Use subset 'training' for training data\n",
    ")"
   ]
  },
  {
   "cell_type": "code",
   "execution_count": 15,
   "id": "643b9421",
   "metadata": {
    "scrolled": true
   },
   "outputs": [
    {
     "name": "stdout",
     "output_type": "stream",
     "text": [
      "Found 4757 images belonging to 4 classes.\n"
     ]
    }
   ],
   "source": [
    "# Generating validation data from the images in the specified directory\n",
    "validation_generator = datagen.flow_from_directory(\n",
    "    train_dir,\n",
    "    target_size=image_size,\n",
    "    batch_size=32,\n",
    "    class_mode='categorical',\n",
    "    subset='validation'        # Use subset 'validation' for validation data\n",
    ")"
   ]
  },
  {
   "cell_type": "code",
   "execution_count": 16,
   "id": "4aa726b1",
   "metadata": {
    "scrolled": true
   },
   "outputs": [
    {
     "name": "stdout",
     "output_type": "stream",
     "text": [
      "Found 10195 images belonging to 4 classes.\n"
     ]
    }
   ],
   "source": [
    "# Generating Testing data from the images in the specified directory\n",
    "testing_generator = test_datagen.flow_from_directory(\n",
    "    test_dir,\n",
    "    target_size=image_size,\n",
    "    batch_size=32,\n",
    "    class_mode='categorical',\n",
    "     shuffle = False\n",
    ")"
   ]
  },
  {
   "cell_type": "markdown",
   "id": "71a9f626",
   "metadata": {},
   "source": [
    "# Build Model"
   ]
  },
  {
   "cell_type": "code",
   "execution_count": 17,
   "id": "c5c979bd",
   "metadata": {
    "scrolled": true
   },
   "outputs": [
    {
     "name": "stdout",
     "output_type": "stream",
     "text": [
      "Metal device set to: Apple M2 Pro\n"
     ]
    },
    {
     "name": "stderr",
     "output_type": "stream",
     "text": [
      "2023-07-20 14:58:56.528424: I tensorflow/core/common_runtime/pluggable_device/pluggable_device_factory.cc:305] Could not identify NUMA node of platform GPU ID 0, defaulting to 0. Your kernel may not have been built with NUMA support.\n",
      "2023-07-20 14:58:56.528548: I tensorflow/core/common_runtime/pluggable_device/pluggable_device_factory.cc:271] Created TensorFlow device (/job:localhost/replica:0/task:0/device:GPU:0 with 0 MB memory) -> physical PluggableDevice (device: 0, name: METAL, pci bus id: <undefined>)\n"
     ]
    }
   ],
   "source": [
    "# model = Sequential()\n",
    "# model.add(Conv2D(16, (3,3), 1, activation = 'relu', input_shape =(50,50,3))) # 16 filter with (3,3) pixel in size, \n",
    "# #model looks at 1 pixel at a time\n",
    "# model.add(MaxPooling2D()) # max pool take the max value of the region it looks at and return that max value, \n",
    "# #default (2,2)\n",
    "\n",
    "\n",
    "# model.add(Conv2D(32, (3,3), 1, activation = 'relu')) # 32 filter\n",
    "# model.add(MaxPooling2D())\n",
    "\n",
    "\n",
    "# model.add(Conv2D(16, (3,3), 1, activation = 'relu')) # 16 filter\n",
    "# model.add(MaxPooling2D())\n",
    "\n",
    "\n",
    "# model.add(Flatten())\n",
    "\n",
    "# model.add(Dense(256, activation='relu'))\n",
    "# model.add(Dense(4, activation='softmax'))\n",
    "\n",
    "\n",
    "\n",
    "# Trying a similar architecture as VG16\n",
    "model = Sequential()\n",
    "model.add(Conv2D(64, (3,3), 1, activation = 'relu', input_shape =(50,50,3)))\n",
    "model.add(Conv2D(64, (3,3), 1, activation = 'relu'))\n",
    "model.add(MaxPooling2D(2,2))\n",
    "\n",
    "model.add(Conv2D(128, (3,3), 1, activation = 'relu'))\n",
    "model.add(Conv2D(128, (3,3), 1, activation = 'relu'))\n",
    "model.add(MaxPooling2D(2,2))\n",
    "\n",
    "model.add(Conv2D(256, (3,3), 1, activation = 'relu'))\n",
    "model.add(Conv2D(256, (3,3), 1, activation = 'relu'))\n",
    "model.add(Conv2D(128, (3,3), 1, activation = 'relu'))\n",
    "model.add(MaxPooling2D(2,2))\n",
    "\n",
    "\n",
    "model.add(Flatten())\n",
    "\n",
    "model.add(Dense(256, activation='relu'))\n",
    "model.add(Dense(128, activation='relu'))\n",
    "model.add(Dense(64, activation='relu'))\n",
    "model.add(Dense(4, activation='softmax'))"
   ]
  },
  {
   "cell_type": "code",
   "execution_count": 18,
   "id": "52fcfe38",
   "metadata": {},
   "outputs": [],
   "source": [
    "opt = Adam(learning_rate = 1e-3, beta_1 = 0.9, beta_2 = 0.999 ) # typical parameters"
   ]
  },
  {
   "cell_type": "code",
   "execution_count": 19,
   "id": "86bf238c",
   "metadata": {},
   "outputs": [],
   "source": [
    "model.compile(optimizer=opt, loss='categorical_crossentropy', metrics=['accuracy','AUC'] )"
   ]
  },
  {
   "cell_type": "code",
   "execution_count": 20,
   "id": "203108b3",
   "metadata": {
    "scrolled": false
   },
   "outputs": [
    {
     "name": "stdout",
     "output_type": "stream",
     "text": [
      "Model: \"sequential\"\n",
      "_________________________________________________________________\n",
      " Layer (type)                Output Shape              Param #   \n",
      "=================================================================\n",
      " conv2d (Conv2D)             (None, 48, 48, 64)        1792      \n",
      "                                                                 \n",
      " conv2d_1 (Conv2D)           (None, 46, 46, 64)        36928     \n",
      "                                                                 \n",
      " max_pooling2d (MaxPooling2D  (None, 23, 23, 64)       0         \n",
      " )                                                               \n",
      "                                                                 \n",
      " conv2d_2 (Conv2D)           (None, 21, 21, 128)       73856     \n",
      "                                                                 \n",
      " conv2d_3 (Conv2D)           (None, 19, 19, 128)       147584    \n",
      "                                                                 \n",
      " max_pooling2d_1 (MaxPooling  (None, 9, 9, 128)        0         \n",
      " 2D)                                                             \n",
      "                                                                 \n",
      " conv2d_4 (Conv2D)           (None, 7, 7, 256)         295168    \n",
      "                                                                 \n",
      " conv2d_5 (Conv2D)           (None, 5, 5, 256)         590080    \n",
      "                                                                 \n",
      " conv2d_6 (Conv2D)           (None, 3, 3, 128)         295040    \n",
      "                                                                 \n",
      " max_pooling2d_2 (MaxPooling  (None, 1, 1, 128)        0         \n",
      " 2D)                                                             \n",
      "                                                                 \n",
      " flatten (Flatten)           (None, 128)               0         \n",
      "                                                                 \n",
      " dense (Dense)               (None, 256)               33024     \n",
      "                                                                 \n",
      " dense_1 (Dense)             (None, 128)               32896     \n",
      "                                                                 \n",
      " dense_2 (Dense)             (None, 64)                8256      \n",
      "                                                                 \n",
      " dense_3 (Dense)             (None, 4)                 260       \n",
      "                                                                 \n",
      "=================================================================\n",
      "Total params: 1,514,884\n",
      "Trainable params: 1,514,884\n",
      "Non-trainable params: 0\n",
      "_________________________________________________________________\n"
     ]
    }
   ],
   "source": [
    "model.summary()"
   ]
  },
  {
   "cell_type": "markdown",
   "id": "acff0479",
   "metadata": {},
   "source": [
    "# Fit Model"
   ]
  },
  {
   "cell_type": "code",
   "execution_count": 21,
   "id": "a9ab1f43",
   "metadata": {},
   "outputs": [],
   "source": [
    "#  will use validation loss: stopping to prevent overfitting.\n",
    "trainCallback = EarlyStopping(monitor='loss', min_delta = 1e-6, patience = 5)"
   ]
  },
  {
   "cell_type": "code",
   "execution_count": 22,
   "id": "a46ff564",
   "metadata": {
    "scrolled": true
   },
   "outputs": [
    {
     "name": "stdout",
     "output_type": "stream",
     "text": [
      "Epoch 1/35\n"
     ]
    },
    {
     "name": "stderr",
     "output_type": "stream",
     "text": [
      "2023-07-20 14:58:56.757348: W tensorflow/core/platform/profile_utils/cpu_utils.cc:128] Failed to get CPU frequency: 0 Hz\n",
      "2023-07-20 14:58:57.004942: I tensorflow/core/grappler/optimizers/custom_graph_optimizer_registry.cc:113] Plugin optimizer for device_type GPU is enabled.\n"
     ]
    },
    {
     "name": "stdout",
     "output_type": "stream",
     "text": [
      "594/595 [============================>.] - ETA: 0s - loss: 1.3767 - accuracy: 0.2776 - auc: 0.5462"
     ]
    },
    {
     "name": "stderr",
     "output_type": "stream",
     "text": [
      "2023-07-20 14:59:11.187578: I tensorflow/core/grappler/optimizers/custom_graph_optimizer_registry.cc:113] Plugin optimizer for device_type GPU is enabled.\n"
     ]
    },
    {
     "name": "stdout",
     "output_type": "stream",
     "text": [
      "595/595 [==============================] - 17s 27ms/step - loss: 1.3767 - accuracy: 0.2777 - auc: 0.5462 - val_loss: 1.3760 - val_accuracy: 0.2825 - val_auc: 0.5461\n",
      "Epoch 2/35\n",
      "595/595 [==============================] - 15s 25ms/step - loss: 1.3759 - accuracy: 0.2800 - auc: 0.5465 - val_loss: 1.3762 - val_accuracy: 0.2825 - val_auc: 0.5461\n",
      "Epoch 3/35\n",
      "595/595 [==============================] - 14s 24ms/step - loss: 1.3466 - accuracy: 0.3065 - auc: 0.5829 - val_loss: 1.0970 - val_accuracy: 0.4822 - val_auc: 0.7659\n",
      "Epoch 4/35\n",
      "595/595 [==============================] - 15s 25ms/step - loss: 0.9438 - accuracy: 0.5478 - auc: 0.8266 - val_loss: 0.7789 - val_accuracy: 0.6140 - val_auc: 0.8797\n",
      "Epoch 5/35\n",
      "595/595 [==============================] - 15s 25ms/step - loss: 0.7438 - accuracy: 0.6422 - auc: 0.8915 - val_loss: 0.7118 - val_accuracy: 0.6542 - val_auc: 0.9018\n",
      "Epoch 6/35\n",
      "595/595 [==============================] - 15s 25ms/step - loss: 0.6517 - accuracy: 0.6951 - auc: 0.9189 - val_loss: 0.6139 - val_accuracy: 0.7192 - val_auc: 0.9288\n",
      "Epoch 7/35\n",
      "595/595 [==============================] - 15s 25ms/step - loss: 0.5597 - accuracy: 0.7445 - auc: 0.9410 - val_loss: 0.5251 - val_accuracy: 0.7656 - val_auc: 0.9483\n",
      "Epoch 8/35\n",
      "595/595 [==============================] - 15s 25ms/step - loss: 0.4638 - accuracy: 0.7923 - auc: 0.9594 - val_loss: 0.5124 - val_accuracy: 0.7736 - val_auc: 0.9515\n",
      "Epoch 9/35\n",
      "595/595 [==============================] - 15s 25ms/step - loss: 0.3960 - accuracy: 0.8269 - auc: 0.9702 - val_loss: 0.4510 - val_accuracy: 0.8041 - val_auc: 0.9623\n",
      "Epoch 10/35\n",
      "595/595 [==============================] - 15s 25ms/step - loss: 0.3326 - accuracy: 0.8584 - auc: 0.9790 - val_loss: 0.4407 - val_accuracy: 0.8123 - val_auc: 0.9653\n",
      "Epoch 11/35\n",
      "595/595 [==============================] - 15s 25ms/step - loss: 0.2878 - accuracy: 0.8803 - auc: 0.9843 - val_loss: 0.3781 - val_accuracy: 0.8526 - val_auc: 0.9749\n",
      "Epoch 12/35\n",
      "595/595 [==============================] - 15s 25ms/step - loss: 0.2299 - accuracy: 0.9051 - auc: 0.9899 - val_loss: 0.4711 - val_accuracy: 0.8198 - val_auc: 0.9649\n",
      "Epoch 13/35\n",
      "595/595 [==============================] - 15s 25ms/step - loss: 0.2026 - accuracy: 0.9211 - auc: 0.9919 - val_loss: 0.4155 - val_accuracy: 0.8516 - val_auc: 0.9720\n",
      "Epoch 14/35\n",
      "595/595 [==============================] - 15s 25ms/step - loss: 0.1698 - accuracy: 0.9338 - auc: 0.9941 - val_loss: 0.4180 - val_accuracy: 0.8606 - val_auc: 0.9747\n",
      "Epoch 15/35\n",
      "595/595 [==============================] - 15s 25ms/step - loss: 0.1479 - accuracy: 0.9436 - auc: 0.9953 - val_loss: 0.3805 - val_accuracy: 0.8671 - val_auc: 0.9766\n",
      "Epoch 16/35\n",
      "595/595 [==============================] - 15s 25ms/step - loss: 0.1208 - accuracy: 0.9554 - auc: 0.9968 - val_loss: 0.4321 - val_accuracy: 0.8629 - val_auc: 0.9727\n",
      "Epoch 17/35\n",
      "595/595 [==============================] - 15s 25ms/step - loss: 0.1149 - accuracy: 0.9586 - auc: 0.9969 - val_loss: 0.3540 - val_accuracy: 0.8812 - val_auc: 0.9803\n",
      "Epoch 18/35\n",
      "595/595 [==============================] - 15s 25ms/step - loss: 0.1036 - accuracy: 0.9631 - auc: 0.9972 - val_loss: 0.3631 - val_accuracy: 0.8863 - val_auc: 0.9796\n",
      "Epoch 19/35\n",
      "595/595 [==============================] - 15s 25ms/step - loss: 0.0892 - accuracy: 0.9677 - auc: 0.9980 - val_loss: 0.3718 - val_accuracy: 0.8848 - val_auc: 0.9790\n",
      "Epoch 20/35\n",
      "595/595 [==============================] - 15s 25ms/step - loss: 0.0688 - accuracy: 0.9754 - auc: 0.9987 - val_loss: 0.3591 - val_accuracy: 0.8930 - val_auc: 0.9797\n",
      "Epoch 21/35\n",
      "595/595 [==============================] - 15s 25ms/step - loss: 0.0743 - accuracy: 0.9733 - auc: 0.9983 - val_loss: 0.3895 - val_accuracy: 0.8859 - val_auc: 0.9776\n",
      "Epoch 22/35\n",
      "595/595 [==============================] - 15s 25ms/step - loss: 0.0793 - accuracy: 0.9719 - auc: 0.9982 - val_loss: 0.4056 - val_accuracy: 0.8863 - val_auc: 0.9758\n",
      "Epoch 23/35\n",
      "595/595 [==============================] - 15s 25ms/step - loss: 0.0517 - accuracy: 0.9827 - auc: 0.9991 - val_loss: 0.4263 - val_accuracy: 0.8852 - val_auc: 0.9755\n",
      "Epoch 24/35\n",
      "595/595 [==============================] - 15s 25ms/step - loss: 0.0660 - accuracy: 0.9778 - auc: 0.9987 - val_loss: 0.4175 - val_accuracy: 0.8945 - val_auc: 0.9772\n",
      "Epoch 25/35\n",
      "595/595 [==============================] - 15s 25ms/step - loss: 0.0625 - accuracy: 0.9789 - auc: 0.9988 - val_loss: 0.4877 - val_accuracy: 0.8764 - val_auc: 0.9674\n",
      "Epoch 26/35\n",
      "595/595 [==============================] - 15s 25ms/step - loss: 0.0515 - accuracy: 0.9827 - auc: 0.9989 - val_loss: 0.4766 - val_accuracy: 0.8812 - val_auc: 0.9715\n",
      "Epoch 27/35\n",
      "595/595 [==============================] - 15s 25ms/step - loss: 0.0525 - accuracy: 0.9811 - auc: 0.9991 - val_loss: 0.4318 - val_accuracy: 0.9031 - val_auc: 0.9752\n",
      "Epoch 28/35\n",
      "595/595 [==============================] - 15s 25ms/step - loss: 0.0443 - accuracy: 0.9845 - auc: 0.9992 - val_loss: 0.4628 - val_accuracy: 0.9027 - val_auc: 0.9735\n",
      "Epoch 29/35\n",
      "595/595 [==============================] - 15s 25ms/step - loss: 0.0521 - accuracy: 0.9819 - auc: 0.9989 - val_loss: 0.3671 - val_accuracy: 0.9050 - val_auc: 0.9799\n",
      "Epoch 30/35\n",
      "595/595 [==============================] - 15s 25ms/step - loss: 0.0507 - accuracy: 0.9832 - auc: 0.9989 - val_loss: 0.4536 - val_accuracy: 0.8911 - val_auc: 0.9741\n",
      "Epoch 31/35\n",
      "595/595 [==============================] - 15s 25ms/step - loss: 0.0499 - accuracy: 0.9841 - auc: 0.9990 - val_loss: 0.4642 - val_accuracy: 0.8760 - val_auc: 0.9719\n",
      "Epoch 32/35\n",
      "595/595 [==============================] - 15s 25ms/step - loss: 0.0483 - accuracy: 0.9828 - auc: 0.9990 - val_loss: 0.3674 - val_accuracy: 0.9004 - val_auc: 0.9787\n",
      "Epoch 33/35\n",
      "595/595 [==============================] - 15s 25ms/step - loss: 0.0484 - accuracy: 0.9838 - auc: 0.9991 - val_loss: 0.4352 - val_accuracy: 0.8898 - val_auc: 0.9740\n"
     ]
    }
   ],
   "source": [
    "# Training the model\n",
    "history_model = model.fit(\n",
    "    train_generator,\n",
    "    epochs=35,\n",
    "    validation_data=validation_generator,\n",
    "    callbacks=[trainCallback]\n",
    ")"
   ]
  },
  {
   "cell_type": "code",
   "execution_count": null,
   "id": "c6019d5f",
   "metadata": {},
   "outputs": [],
   "source": []
  },
  {
   "cell_type": "markdown",
   "id": "c6ae00c8",
   "metadata": {},
   "source": [
    "# Evaluate Model"
   ]
  },
  {
   "cell_type": "code",
   "execution_count": 23,
   "id": "7cca31a3",
   "metadata": {},
   "outputs": [
    {
     "name": "stdout",
     "output_type": "stream",
     "text": [
      "319/319 [==============================] - 5s 17ms/step - loss: 0.4013 - accuracy: 0.8912 - auc: 0.9766\n"
     ]
    },
    {
     "data": {
      "text/plain": [
       "[0.401323139667511, 0.8912211656570435, 0.9765540361404419]"
      ]
     },
     "execution_count": 23,
     "metadata": {},
     "output_type": "execute_result"
    }
   ],
   "source": [
    "# Model evaluation\n",
    "model.evaluate(testing_generator)"
   ]
  },
  {
   "cell_type": "code",
   "execution_count": 24,
   "id": "69368700",
   "metadata": {},
   "outputs": [
    {
     "name": "stdout",
     "output_type": "stream",
     "text": [
      " 12/319 [>.............................] - ETA: 3s"
     ]
    },
    {
     "name": "stderr",
     "output_type": "stream",
     "text": [
      "2023-07-20 15:07:13.274645: I tensorflow/core/grappler/optimizers/custom_graph_optimizer_registry.cc:113] Plugin optimizer for device_type GPU is enabled.\n"
     ]
    },
    {
     "name": "stdout",
     "output_type": "stream",
     "text": [
      "319/319 [==============================] - 4s 11ms/step\n"
     ]
    }
   ],
   "source": [
    "# Model prediction\n",
    "y_true = testing_generator.classes\n",
    "y_pred_probs = model.predict(testing_generator)\n",
    "y_pred = np.argmax(y_pred_probs, axis=1)"
   ]
  },
  {
   "cell_type": "code",
   "execution_count": 27,
   "id": "5916a51b",
   "metadata": {},
   "outputs": [
    {
     "data": {
      "image/png": "[encoded data removed]",
      "text/plain": [
       "<Figure size 640x480 with 2 Axes>"
      ]
     },
     "metadata": {},
     "output_type": "display_data"
    }
   ],
   "source": [
    "# Confusion matrix\n",
    "cm = confusion_matrix(y_true, y_pred)\n",
    "\n",
    "# Create confusion matrix display\n",
    "disp = ConfusionMatrixDisplay(\n",
    "    confusion_matrix=cm)\n",
    "\n",
    "disp.plot(cmap=plt.cm.Blues)\n",
    "plt.show()"
   ]
  },
  {
   "cell_type": "code",
   "execution_count": 28,
   "id": "ec7488a1",
   "metadata": {},
   "outputs": [
    {
     "data": {
      "image/png": "[encoded data removed]",
      "text/plain": [
       "<Figure size 640x480 with 1 Axes>"
      ]
     },
     "metadata": {},
     "output_type": "display_data"
    }
   ],
   "source": [
    "train_history_model = pd.DataFrame(history_model.history)\n",
    "train_history_model.index.name = 'epochs'\n",
    "\n",
    "col_list = ['loss', 'val_loss']\n",
    "train_history_model[col_list].plot()\n",
    "plt.ylabel('Categorical cross entropy')\n",
    "plt.title('Training loss history')\n",
    "plt.show()"
   ]
  },
  {
   "cell_type": "code",
   "execution_count": 29,
   "id": "48d28a58",
   "metadata": {},
   "outputs": [
    {
     "data": {
      "image/png": "[encoded data removed]",
      "text/plain": [
       "<Figure size 640x480 with 1 Axes>"
      ]
     },
     "metadata": {},
     "output_type": "display_data"
    }
   ],
   "source": [
    "col_list = ['accuracy', 'val_accuracy']\n",
    "train_history_model[col_list].plot()\n",
    "plt.ylabel('Accuracy')\n",
    "plt.title('Training loss history')\n",
    "plt.show()"
   ]
  },
  {
   "cell_type": "code",
   "execution_count": null,
   "id": "927a859f",
   "metadata": {},
   "outputs": [],
   "source": []
  },
  {
   "cell_type": "code",
   "execution_count": null,
   "id": "093c828d",
   "metadata": {},
   "outputs": [],
   "source": []
  },
  {
   "cell_type": "markdown",
   "id": "3c2e62e9",
   "metadata": {},
   "source": [
    "# Visualize the Model Architecture"
   ]
  },
  {
   "cell_type": "code",
   "execution_count": 30,
   "id": "06cad4b6",
   "metadata": {
    "scrolled": true
   },
   "outputs": [
    {
     "data": {
      "image/png": "[encoded data removed]",
      "text/plain": [
       "<PIL.Image.Image image mode=RGBA size=513x292>"
      ]
     },
     "execution_count": 30,
     "metadata": {},
     "output_type": "execute_result"
    }
   ],
   "source": [
    "visualkeras.layered_view(model, legend=True)"
   ]
  },
  {
   "cell_type": "code",
   "execution_count": 31,
   "id": "ed5a6f6f",
   "metadata": {},
   "outputs": [],
   "source": [
    "# ann_viz(model, view=True, filename=\"Modelv2\", title=\"CNN Model v2\")"
   ]
  },
  {
   "cell_type": "markdown",
   "id": "ee8441f9",
   "metadata": {},
   "source": [
    "# Next Regularization the Model and Use TensorBoard\n",
    "\n",
    "### In another notebook"
   ]
  },
  {
   "cell_type": "code",
   "execution_count": null,
   "id": "b75aa8ee",
   "metadata": {},
   "outputs": [],
   "source": []
  }
 ],
 "metadata": {
  "kernelspec": {
   "display_name": "Python 3 (ipykernel)",
   "language": "python",
   "name": "python3"
  },
  "language_info": {
   "codemirror_mode": {
    "name": "ipython",
    "version": 3
   },
   "file_extension": ".py",
   "mimetype": "text/x-python",
   "name": "python",
   "nbconvert_exporter": "python",
   "pygments_lexer": "ipython3",
   "version": "3.8.13"
  }
 },
 "nbformat": 4,
 "nbformat_minor": 5
}
