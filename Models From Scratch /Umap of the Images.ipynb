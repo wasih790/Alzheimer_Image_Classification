{
 "cells": [
  {
   "cell_type": "markdown",
   "id": "17d3b225",
   "metadata": {},
   "source": [
    "# Imports"
   ]
  },
  {
   "cell_type": "code",
   "execution_count": 9,
   "id": "4c7a4050",
   "metadata": {},
   "outputs": [],
   "source": [
    "import os\n",
    "import cv2\n",
    "import umap\n",
    "import matplotlib.pyplot as plt"
   ]
  },
  {
   "cell_type": "markdown",
   "id": "dcfb9343",
   "metadata": {},
   "source": [
    "# Loading the Data Folder with all Images"
   ]
  },
  {
   "cell_type": "code",
   "execution_count": 10,
   "id": "97bdb83d",
   "metadata": {},
   "outputs": [
    {
     "name": "stdout",
     "output_type": "stream",
     "text": [
      "['.DS_Store', 'VeryMildDemented', 'ModerateDemented', 'MildDemented', 'NonDemented']\n"
     ]
    }
   ],
   "source": [
    "# Step 1: Load the images and their labels\n",
    "data_folder = 'Data'\n",
    "class_folders = os.listdir(data_folder)\n",
    "images = []\n",
    "labels = []\n",
    "\n",
    "# for class_idx, class_folder in enumerate(class_folders):\n",
    "#     class_path = os.path.join(data_folder, class_folder)\n",
    "#     class_images = os.listdir(class_path)\n",
    "    \n",
    "#     for image_file in class_images:\n",
    "#         image_path = os.path.join(class_path, image_file)\n",
    "#         image = cv2.imread(image_path)\n",
    "#         images.append(image.flatten())  # Flatten the image for UMAP\n",
    "#         labels.append(class_idx)\n",
    "\n",
    "\n",
    "print(class_folders)"
   ]
  },
  {
   "cell_type": "markdown",
   "id": "699ab975",
   "metadata": {},
   "source": [
    "# Umap"
   ]
  },
  {
   "cell_type": "code",
   "execution_count": null,
   "id": "d59d8a65",
   "metadata": {},
   "outputs": [],
   "source": [
    "# Step 2: Apply UMAP to reduce the feature dimensions to 2D\n",
    "reducer = umap.UMAP(n_components=2, random_state=42)\n",
    "umap_embeddings = reducer.fit_transform(images)\n"
   ]
  },
  {
   "cell_type": "code",
   "execution_count": 2,
   "id": "51bd0862",
   "metadata": {},
   "outputs": [
    {
     "ename": "NameError",
     "evalue": "name 'class_folders' is not defined",
     "output_type": "error",
     "traceback": [
      "\u001b[0;31m---------------------------------------------------------------------------\u001b[0m",
      "\u001b[0;31mNameError\u001b[0m                                 Traceback (most recent call last)",
      "Input \u001b[0;32mIn [2]\u001b[0m, in \u001b[0;36m<cell line: 3>\u001b[0;34m()\u001b[0m\n\u001b[1;32m      1\u001b[0m \u001b[38;5;66;03m# Step 3: Plot the UMAP visualization\u001b[39;00m\n\u001b[1;32m      2\u001b[0m plt\u001b[38;5;241m.\u001b[39mfigure(figsize\u001b[38;5;241m=\u001b[39m(\u001b[38;5;241m10\u001b[39m, \u001b[38;5;241m8\u001b[39m))\n\u001b[0;32m----> 3\u001b[0m \u001b[38;5;28;01mfor\u001b[39;00m class_idx, class_name \u001b[38;5;129;01min\u001b[39;00m \u001b[38;5;28menumerate\u001b[39m(\u001b[43mclass_folders\u001b[49m):\n\u001b[1;32m      4\u001b[0m     class_mask \u001b[38;5;241m=\u001b[39m [label \u001b[38;5;241m==\u001b[39m class_idx \u001b[38;5;28;01mfor\u001b[39;00m label \u001b[38;5;129;01min\u001b[39;00m labels]\n\u001b[1;32m      5\u001b[0m     plt\u001b[38;5;241m.\u001b[39mscatter(umap_embeddings[class_mask, \u001b[38;5;241m0\u001b[39m], umap_embeddings[class_mask, \u001b[38;5;241m1\u001b[39m], label\u001b[38;5;241m=\u001b[39mclass_name)\n",
      "\u001b[0;31mNameError\u001b[0m: name 'class_folders' is not defined"
     ]
    },
    {
     "data": {
      "text/plain": [
       "<Figure size 1000x800 with 0 Axes>"
      ]
     },
     "metadata": {},
     "output_type": "display_data"
    }
   ],
   "source": [
    "\n",
    "# Step 3: Plot the UMAP visualization\n",
    "plt.figure(figsize=(10, 8))\n",
    "for class_idx, class_name in enumerate(class_folders):\n",
    "    class_mask = [label == class_idx for label in labels]\n",
    "    plt.scatter(umap_embeddings[class_mask, 0], umap_embeddings[class_mask, 1], label=class_name)\n",
    "\n",
    "plt.title('UMAP Visualization for Image Classes')\n",
    "plt.legend()\n",
    "plt.show()"
   ]
  },
  {
   "cell_type": "code",
   "execution_count": null,
   "id": "ca95c9b2",
   "metadata": {},
   "outputs": [],
   "source": []
  }
 ],
 "metadata": {
  "kernelspec": {
   "display_name": "Python 3 (ipykernel)",
   "language": "python",
   "name": "python3"
  },
  "language_info": {
   "codemirror_mode": {
    "name": "ipython",
    "version": 3
   },
   "file_extension": ".py",
   "mimetype": "text/x-python",
   "name": "python",
   "nbconvert_exporter": "python",
   "pygments_lexer": "ipython3",
   "version": "3.8.13"
  }
 },
 "nbformat": 4,
 "nbformat_minor": 5
}
